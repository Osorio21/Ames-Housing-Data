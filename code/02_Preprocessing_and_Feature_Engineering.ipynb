{
 "cells": [
  {
   "cell_type": "markdown",
   "id": "46f9973e-ff56-4773-b7c0-56bef57faab7",
   "metadata": {},
   "source": [
    "<img src=\"http://imgur.com/1ZcRyrc.png\" style=\"float: left; margin: 20px; height: 55px\">\n",
    "\n",
    "# Project 2: Ames Housing Data and Kaggle Challenge"
   ]
  },
  {
   "cell_type": "markdown",
   "id": "f49ae1fb-5dc6-4e19-a39e-9567d67425f9",
   "metadata": {},
   "source": [
    "### Data Import"
   ]
  },
  {
   "cell_type": "code",
   "execution_count": 1,
   "id": "211c15ac-8a3e-473f-a1f8-68d916c92012",
   "metadata": {
    "tags": []
   },
   "outputs": [],
   "source": [
    "#Imports\n",
    "import pandas as pd\n",
    "import numpy as np\n",
    "pd.set_option('display.max_rows',20 )\n",
    "pd.set_option('display.max_columns', 300)\n",
    "import scipy.stats"
   ]
  },
  {
   "cell_type": "code",
   "execution_count": 2,
   "id": "35f50f37-3af2-472f-8eab-61abf937ddd0",
   "metadata": {},
   "outputs": [],
   "source": [
    "#read in training data\n",
    "train_clean = pd.read_csv(\"../datasets/clean_data/train_clean.csv\")"
   ]
  },
  {
   "cell_type": "markdown",
   "id": "f663d8cc-6d07-4deb-a6b7-0b0035092207",
   "metadata": {},
   "source": [
    "## Feature Engineering & Preprocessing<a id='feature_engineering'></a>"
   ]
  },
  {
   "cell_type": "code",
   "execution_count": 3,
   "id": "11bbe7be-daed-421e-be51-a8fbdc867cec",
   "metadata": {},
   "outputs": [],
   "source": [
    "#create copy for editing\n",
    "train = train_clean.copy()"
   ]
  },
  {
   "cell_type": "code",
   "execution_count": 5,
   "id": "e3ad7060-a1b7-45bc-a6a5-bdaae03738cc",
   "metadata": {},
   "outputs": [],
   "source": [
    "#encode ordinal variables with custom values\n",
    "train = train.replace({\"lot_shape\" : {\"IR3\" : 1, \"IR2\" : 1, \"IR1\" : 2, \"Reg\" : 3},\n",
    "                      \"utilities\" : {\"ELO\" : 1, \"NoSeWa\" : 1, \"NoSewr\" : 2, \"AllPub\" : 3},\n",
    "                      \"land_slope\" : {\"Sev\" : 1, \"Mod\" : 2, \"Gtl\" : 2},\n",
    "                      \"exter_qual\" : {\"Po\" : 1, \"Fa\" : 1, \"TA\": 2, \"Gd\": 3, \"Ex\" : 4},\n",
    "                      \"exter_cond\" : {\"Po\" : 1, \"Fa\" : 1, \"TA\": 2, \"Gd\": 3, \"Ex\" : 4},\n",
    "                      \"bsmt_qual\" : {\"None\" : 0, \"Po\" : 1, \"Fa\" : 1, \"TA\": 1, \"Gd\" : 2, \"Ex\" : 3},\n",
    "                      \"bsmt_cond\" : {\"None\" : 0, \"Po\" : 1, \"Fa\" : 1, \"TA\" : 1, \"Gd\" : 2, \"Ex\" : 3},\n",
    "                      \"bsmt_exposure\" : {\"None\" : 0, \"No\" : 1, \"Mn\" : 1, \"Av\": 2, \"Gd\" : 3},\n",
    "                      \"bsmtfin_type_1\" : {\"None\" : 0, \"Unf\" : 1, \"LwQ\": 1, \"Rec\" : 2, \"BLQ\" : 3, \n",
    "                                         \"ALQ\" : 3, \"GLQ\" : 4},\n",
    "                       \"bsmtfin_type_2\" : {\"None\" : 0, \"Unf\" : 1, \"LwQ\": 1, \"Rec\" : 2, \"BLQ\" : 3, \n",
    "                                         \"ALQ\" : 3, \"GLQ\" : 4},\n",
    "                       \"heating_qc\" : {\"Po\" : 1, \"Fa\" : 1, \"TA\" : 2, \"Gd\" : 2, \"Ex\" : 3},\n",
    "                       \"electrical\" : {\"Mix\" : 0, \"FuseP\" : 1, \"FuseF\": 1, \"FuseA\" : 2, \"SBrkr\" : 2},\n",
    "                       \"kitchen_qual\" : {\"Po\" : 1, \"Fa\" : 1, \"TA\" : 2, \"Gd\" : 2, \"Ex\" : 3},\n",
    "                       \"functional\" : {\"Sal\" : 1, \"Sev\" : 1, \"Maj2\" : 2, \"Maj1\" : 2, \"Mod\": 3, \n",
    "                                       \"Min2\" : 3, \"Min1\" : 4, \"Typ\" : 4},\n",
    "                       \"garage_finish\" : {\"None\" : 0, \"Unf\" : 1, \"RFn\" : 1, \"Fin\" : 2},\n",
    "                       \"garage_qual\" : {\"None\" : 0, \"Po\" : 1, \"Fa\" : 1, \"TA\" : 2, \"Gd\" : 2, \"Ex\" : 3},\n",
    "                        \"garage_cond\" : {\"None\" : 0, \"Po\" : 1, \"Fa\" : 1, \"TA\" : 2, \"Gd\" : 2, \"Ex\" : 3},\n",
    "                       \"paved_drive\" : {\"N\" : 0, \"P\" : 1, \"Y\" : 2},\n",
    "                       \"pool_qc\" : {\"None\" : 0, \"Fa\" : 1, \"TA\" : 1, \"Gd\" : 2, \"Ex\" : 3},\n",
    "                       \"fence\" : {\"None\" : 0, \"MnWw\" : 1, \"GdWo\" : 1, \"MnPrv\" : 2, \"GdPrv\" : 3},\n",
    "                       })"
   ]
  },
  {
   "cell_type": "code",
   "execution_count": 6,
   "id": "ae11c306-e7dd-4142-a2cd-db929ec7e564",
   "metadata": {},
   "outputs": [],
   "source": [
    "#add new features for modeling\n",
    "#some found through trial and error with testing using unregularized linear regression\n",
    "\n",
    "train['total_sq_ft'] = train[\"gr_liv_area\"] + train[\"total_bsmt_sf\"]\n",
    "train[\"total_bathroom\"] = train[\"full_bath\"] + train[\"bsmt_full_bath\"] \\\n",
    "                                + 0.5 * (train[\"half_bath\"] + train[\"bsmt_half_bath\"])\n",
    "\n",
    "train[\"ga_oq_sf\"] = train[\"garage_area\"] * train[\"overall_qual\"] * train[\"total_sq_ft\"]\n",
    "train[\"lf_sf\"] = train[\"lot_frontage\"] * train[\"total_sq_ft\"]  \n",
    "train[\"op_sf3\"] = train[\"open_porch_sf\"] * train[\"total_sq_ft\"] *train[\"total_sq_ft\"] * train[\"total_sq_ft\"] \n",
    "train[\"op_oq3\"] = train[\"open_porch_sf\"] * train[\"overall_qual\"] * train[\"overall_qual\"] * train[\"overall_qual\"] \n",
    "train[\"oc_sf\"] = train[\"overall_cond\"] * train[\"total_sq_ft\"] \n",
    "train[\"kq_f_lf\"] = train[\"kitchen_qual\"] * train[\"fireplaces\"] * train[\"lot_frontage\"]\n",
    "train[\"pd_oq\"] = train[\"paved_drive\"] * train[\"overall_qual\"] \n",
    "train[\"gq_sf\"] = train[\"garage_qual\"] * train[\"total_sq_ft\"] \n"
   ]
  },
  {
   "cell_type": "code",
   "execution_count": 7,
   "id": "7891d759-e42b-4f5f-83ed-1db88860b978",
   "metadata": {},
   "outputs": [],
   "source": [
    "#Check skew of variables for potential log transformation candidates\n",
    "skew_values = pd.DataFrame(train.select_dtypes(np.number).columns, columns = [\"variable\"])\n",
    "skew_values[\"absolute_skew\"] = skew_values[\"variable\"].map(lambda x: abs(scipy.stats.skew(train[x])))\n",
    "skew_transform = list(skew_values.loc[skew_values['absolute_skew'] > .5,\"variable\"])"
   ]
  },
  {
   "cell_type": "code",
   "execution_count": 8,
   "id": "79a4d4e5-c4c7-4d0f-a5ed-97224e050fbb",
   "metadata": {},
   "outputs": [
    {
     "data": {
      "text/html": [
       "<div>\n",
       "<style scoped>\n",
       "    .dataframe tbody tr th:only-of-type {\n",
       "        vertical-align: middle;\n",
       "    }\n",
       "\n",
       "    .dataframe tbody tr th {\n",
       "        vertical-align: top;\n",
       "    }\n",
       "\n",
       "    .dataframe thead th {\n",
       "        text-align: right;\n",
       "    }\n",
       "</style>\n",
       "<table border=\"1\" class=\"dataframe\">\n",
       "  <thead>\n",
       "    <tr style=\"text-align: right;\">\n",
       "      <th></th>\n",
       "      <th>count</th>\n",
       "      <th>mean</th>\n",
       "      <th>std</th>\n",
       "      <th>min</th>\n",
       "      <th>25%</th>\n",
       "      <th>50%</th>\n",
       "      <th>75%</th>\n",
       "      <th>max</th>\n",
       "    </tr>\n",
       "  </thead>\n",
       "  <tbody>\n",
       "    <tr>\n",
       "      <th>id</th>\n",
       "      <td>2049.0</td>\n",
       "      <td>1473.676428</td>\n",
       "      <td>844.248064</td>\n",
       "      <td>1.0</td>\n",
       "      <td>753.0</td>\n",
       "      <td>1481.0</td>\n",
       "      <td>2199.0</td>\n",
       "      <td>2930.0</td>\n",
       "    </tr>\n",
       "    <tr>\n",
       "      <th>lot_frontage</th>\n",
       "      <td>2049.0</td>\n",
       "      <td>69.757247</td>\n",
       "      <td>21.786571</td>\n",
       "      <td>21.0</td>\n",
       "      <td>60.0</td>\n",
       "      <td>70.0</td>\n",
       "      <td>80.0</td>\n",
       "      <td>313.0</td>\n",
       "    </tr>\n",
       "    <tr>\n",
       "      <th>lot_area</th>\n",
       "      <td>2049.0</td>\n",
       "      <td>10024.677892</td>\n",
       "      <td>6608.511749</td>\n",
       "      <td>1300.0</td>\n",
       "      <td>7500.0</td>\n",
       "      <td>9405.0</td>\n",
       "      <td>11500.0</td>\n",
       "      <td>159000.0</td>\n",
       "    </tr>\n",
       "    <tr>\n",
       "      <th>lot_shape</th>\n",
       "      <td>2049.0</td>\n",
       "      <td>2.601269</td>\n",
       "      <td>0.548986</td>\n",
       "      <td>1.0</td>\n",
       "      <td>2.0</td>\n",
       "      <td>3.0</td>\n",
       "      <td>3.0</td>\n",
       "      <td>3.0</td>\n",
       "    </tr>\n",
       "    <tr>\n",
       "      <th>utilities</th>\n",
       "      <td>2049.0</td>\n",
       "      <td>2.998536</td>\n",
       "      <td>0.049389</td>\n",
       "      <td>1.0</td>\n",
       "      <td>3.0</td>\n",
       "      <td>3.0</td>\n",
       "      <td>3.0</td>\n",
       "      <td>3.0</td>\n",
       "    </tr>\n",
       "    <tr>\n",
       "      <th>...</th>\n",
       "      <td>...</td>\n",
       "      <td>...</td>\n",
       "      <td>...</td>\n",
       "      <td>...</td>\n",
       "      <td>...</td>\n",
       "      <td>...</td>\n",
       "      <td>...</td>\n",
       "      <td>...</td>\n",
       "    </tr>\n",
       "    <tr>\n",
       "      <th>op_oq3</th>\n",
       "      <td>2049.0</td>\n",
       "      <td>16189.354807</td>\n",
       "      <td>28945.012860</td>\n",
       "      <td>0.0</td>\n",
       "      <td>0.0</td>\n",
       "      <td>5250.0</td>\n",
       "      <td>21266.0</td>\n",
       "      <td>502000.0</td>\n",
       "    </tr>\n",
       "    <tr>\n",
       "      <th>oc_sf</th>\n",
       "      <td>2049.0</td>\n",
       "      <td>14043.857784</td>\n",
       "      <td>4611.383773</td>\n",
       "      <td>1002.0</td>\n",
       "      <td>11340.0</td>\n",
       "      <td>13620.0</td>\n",
       "      <td>16385.0</td>\n",
       "      <td>44667.0</td>\n",
       "    </tr>\n",
       "    <tr>\n",
       "      <th>kq_f_lf</th>\n",
       "      <td>2049.0</td>\n",
       "      <td>95.619717</td>\n",
       "      <td>120.178723</td>\n",
       "      <td>0.0</td>\n",
       "      <td>0.0</td>\n",
       "      <td>68.0</td>\n",
       "      <td>160.0</td>\n",
       "      <td>800.0</td>\n",
       "    </tr>\n",
       "    <tr>\n",
       "      <th>pd_oq</th>\n",
       "      <td>2049.0</td>\n",
       "      <td>11.446559</td>\n",
       "      <td>4.257599</td>\n",
       "      <td>0.0</td>\n",
       "      <td>10.0</td>\n",
       "      <td>12.0</td>\n",
       "      <td>14.0</td>\n",
       "      <td>20.0</td>\n",
       "    </tr>\n",
       "    <tr>\n",
       "      <th>gq_sf</th>\n",
       "      <td>2049.0</td>\n",
       "      <td>4791.995900</td>\n",
       "      <td>1958.511920</td>\n",
       "      <td>0.0</td>\n",
       "      <td>3820.0</td>\n",
       "      <td>4814.0</td>\n",
       "      <td>5968.0</td>\n",
       "      <td>14145.0</td>\n",
       "    </tr>\n",
       "  </tbody>\n",
       "</table>\n",
       "<p>67 rows × 8 columns</p>\n",
       "</div>"
      ],
      "text/plain": [
       "               count          mean           std     min      25%      50%  \\\n",
       "id            2049.0   1473.676428    844.248064     1.0    753.0   1481.0   \n",
       "lot_frontage  2049.0     69.757247     21.786571    21.0     60.0     70.0   \n",
       "lot_area      2049.0  10024.677892   6608.511749  1300.0   7500.0   9405.0   \n",
       "lot_shape     2049.0      2.601269      0.548986     1.0      2.0      3.0   \n",
       "utilities     2049.0      2.998536      0.049389     1.0      3.0      3.0   \n",
       "...              ...           ...           ...     ...      ...      ...   \n",
       "op_oq3        2049.0  16189.354807  28945.012860     0.0      0.0   5250.0   \n",
       "oc_sf         2049.0  14043.857784   4611.383773  1002.0  11340.0  13620.0   \n",
       "kq_f_lf       2049.0     95.619717    120.178723     0.0      0.0     68.0   \n",
       "pd_oq         2049.0     11.446559      4.257599     0.0     10.0     12.0   \n",
       "gq_sf         2049.0   4791.995900   1958.511920     0.0   3820.0   4814.0   \n",
       "\n",
       "                  75%       max  \n",
       "id             2199.0    2930.0  \n",
       "lot_frontage     80.0     313.0  \n",
       "lot_area      11500.0  159000.0  \n",
       "lot_shape         3.0       3.0  \n",
       "utilities         3.0       3.0  \n",
       "...               ...       ...  \n",
       "op_oq3        21266.0  502000.0  \n",
       "oc_sf         16385.0   44667.0  \n",
       "kq_f_lf         160.0     800.0  \n",
       "pd_oq            14.0      20.0  \n",
       "gq_sf          5968.0   14145.0  \n",
       "\n",
       "[67 rows x 8 columns]"
      ]
     },
     "execution_count": 8,
     "metadata": {},
     "output_type": "execute_result"
    }
   ],
   "source": [
    "train.select_dtypes(include=[np.number]).describe().T"
   ]
  },
  {
   "cell_type": "code",
   "execution_count": 9,
   "id": "02528576-1c38-4dad-b5d7-50f313867877",
   "metadata": {},
   "outputs": [],
   "source": [
    "#apply log transformation with log1p due to min values being 0 for some variables\n",
    "for col in skew_transform:\n",
    "    train[col] = np.log1p(train[col])"
   ]
  },
  {
   "cell_type": "code",
   "execution_count": 10,
   "id": "1061b49f-78cb-4928-a036-1d4235833a65",
   "metadata": {},
   "outputs": [],
   "source": [
    "#Keep only variables to be used for modeling\n",
    "\n",
    "train.drop(columns = [\"id\", \"ms_zoning\", \"lot_area\", \"street\", \n",
    "                     \"condition_2\", \"house_style\", \"overall_cond\", \"year_built\",\n",
    "                     \"year_remod/add\", \"roof_style\", \"roof_matl\", \"exterior_1st\", \"exterior_2nd\", \n",
    "                     \"mas_vnr_type\", \"exter_cond\", \"bsmt_qual\", \"bsmt_cond\",\n",
    "                     \"bsmtfin_type_1\", \"bsmtfin_sf_1\", \"bsmtfin_sf_1\", \"bsmtfin_sf_2\", \"bsmtfin_type_2\", \"bsmt_unf_sf\",\n",
    "                     \"total_bsmt_sf\", \"heating\", \"electrical\", \"1st_flr_sf\", \n",
    "                     \"2nd_flr_sf\", \"low_qual_fin_sf\", \"gr_liv_area\", \"bsmt_full_bath\", \"bsmt_half_bath\", \n",
    "                     \"full_bath\", \"half_bath\", \"bedroom_abvgr\", \"kitchen_abvgr\", \"totrms_abvgrd\",\n",
    "                     \"fireplace_qu\", \"garage_type\", \"garage_yr_blt\", \"garage_area\", \"garage_cond\",\n",
    "                      \"enclosed_porch\", \"3ssn_porch\",\n",
    "                     \"screen_porch\", \"pool_area\", \"pool_qc\", \"fence\", \"misc_feature\", \"misc_val\",\n",
    "                     \"yr_sold\", \"sale_type\"], inplace = True)"
   ]
  },
  {
   "cell_type": "code",
   "execution_count": 11,
   "id": "a08d3bac-5563-4774-a446-27af4b21dffe",
   "metadata": {},
   "outputs": [],
   "source": [
    "#one hot encode nominal variables to be used in model\n",
    "train = pd.get_dummies(data = train, columns = [\"alley\", \"lot_config\", \"condition_1\", \"bldg_type\",\n",
    "                                               \"foundation\", \"central_air\", \"mo_sold\", \"ms_subclass\",\n",
    "                                               \"land_contour\", \"neighborhood\"], drop_first = True)"
   ]
  },
  {
   "cell_type": "code",
   "execution_count": 13,
   "id": "4c8f8110-bdaa-4af0-89ac-1f99b027913a",
   "metadata": {},
   "outputs": [],
   "source": [
    "#save edited data set\n",
    "train.to_csv(\"../datasets/clean_data/train_feature_ohe.csv\", index = False)"
   ]
  },
  {
   "cell_type": "markdown",
   "id": "efd9ccb5-684f-47da-82bb-e9d88d4e90e9",
   "metadata": {},
   "source": [
    "### Next Step:<a id='next_step'></a>"
   ]
  },
  {
   "cell_type": "markdown",
   "id": "3f124f3c-81fc-4c45-a016-f5826ba61f7f",
   "metadata": {},
   "source": [
    "#### [Model Tuning](./03_Model_Tuning.ipynb)"
   ]
  }
 ],
 "metadata": {
  "kernelspec": {
   "display_name": "Python 3 (ipykernel)",
   "language": "python",
   "name": "python3"
  },
  "language_info": {
   "codemirror_mode": {
    "name": "ipython",
    "version": 3
   },
   "file_extension": ".py",
   "mimetype": "text/x-python",
   "name": "python",
   "nbconvert_exporter": "python",
   "pygments_lexer": "ipython3",
   "version": "3.9.13"
  }
 },
 "nbformat": 4,
 "nbformat_minor": 5
}
