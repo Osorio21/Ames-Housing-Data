{
 "cells": [
  {
   "cell_type": "markdown",
   "id": "00793688-9960-401d-8651-667be0c11df9",
   "metadata": {},
   "source": [
    "<img src=\"http://imgur.com/1ZcRyrc.png\" style=\"float: left; margin: 20px; height: 55px\">\n",
    "\n",
    "# Project 2: Ames Housing Data and Kaggle Challenge"
   ]
  },
  {
   "cell_type": "markdown",
   "id": "34d4df49-45e1-4129-a364-d205831bed78",
   "metadata": {
    "tags": []
   },
   "source": [
    "## Model Tuning"
   ]
  },
  {
   "cell_type": "code",
   "execution_count": 3,
   "id": "6a1d1bd5-220e-4abc-b885-2fb7f578dbe2",
   "metadata": {},
   "outputs": [],
   "source": [
    "#Import\n",
    "\n",
    "import pandas as pd\n",
    "import seaborn as sns\n",
    "import numpy as np\n",
    "import matplotlib.pyplot as plt\n",
    "from sklearn.linear_model import LinearRegression\n",
    "from sklearn.model_selection import train_test_split, cross_val_score, RepeatedKFold, GridSearchCV\n",
    "from statsmodels.stats.outliers_influence import variance_inflation_factor\n",
    "from statsmodels.stats.stattools import durbin_watson\n",
    "import statsmodels.api as sm\n",
    "from scipy import stats\n",
    "from sklearn.metrics import mean_squared_error\n",
    "from sklearn.preprocessing import StandardScaler\n",
    "from sklearn.linear_model import RidgeCV, Ridge, Lasso, LassoCV, ElasticNetCV, ElasticNet\n",
    "pd.set_option('display.max_columns', 300)\n",
    "import warnings\n",
    "warnings.filterwarnings('ignore')\n",
    "import matplotlib.pyplot as plt"
   ]
  },
  {
   "cell_type": "code",
   "execution_count": 7,
   "id": "a3e7d0fe-a1df-421b-8d28-2a9191200bb2",
   "metadata": {},
   "outputs": [],
   "source": [
    "train = pd.read_csv(\"../datasets/clean_data/train_feature_ohe.csv\")\n",
    "clean = pd.read_csv(\"../datasets/clean_data/test_clean.csv\")"
   ]
  },
  {
   "cell_type": "code",
   "execution_count": 198,
   "id": "fd3fd5e8-9215-439d-a9dc-10b4dcfe3be9",
   "metadata": {},
   "outputs": [],
   "source": [
    "#Prints various metrics for standarized data based on model\n",
    "def model_metrics(X,X_train,X_test,y_train,y_test,model):\n",
    "    model.fit(X_train,y_train)\n",
    "    print(f\"Training R-Squared: {model.score(X_train,y_train)}\")\n",
    "    print(f\"Test R-Squared: {model.score(X_test,y_test)}\")\n",
    "    print(f\"Cross-Val Score: {cross_val_score(model,X_train,y_train).mean()}\")\n",
    "    print(f\"Training RMSE: {mean_squared_error(np.expm1(y_train), np.expm1(model.predict(X_train)))**0.5}\")\n",
    "    print(f\"Testing RMSE: {mean_squared_error(np.expm1(y_test), np.expm1(model.predict(X_test)))**0.5}\")\n",
    "    X_1 = sm.add_constant(X)\n",
    "    model_2 = sm.OLS(y,X_1)\n",
    "    results = model_2.fit()\n",
    "    print(results.summary())"
   ]
  },
  {
   "cell_type": "markdown",
   "id": "bd0ec57b-f2c6-4755-a592-17f461c2822e",
   "metadata": {},
   "source": [
    "## Baseline"
   ]
  },
  {
   "cell_type": "code",
   "execution_count": 199,
   "id": "435e6bd4-c35e-4275-804a-5cac5135330e",
   "metadata": {},
   "outputs": [
    {
     "name": "stdout",
     "output_type": "stream",
     "text": [
      "Training R-Squared: 0.6601227449805733\n",
      "Test R-Squared: 0.6518527818240154\n",
      "Cross-Val Score: 0.6588994607288782\n",
      "Training RMSE: 46731.18971535636\n",
      "Testing RMSE: 40188.549506018324\n",
      "                            OLS Regression Results                            \n",
      "==============================================================================\n",
      "Dep. Variable:             sale_price   R-squared:                       0.659\n",
      "Model:                            OLS   Adj. R-squared:                  0.659\n",
      "Method:                 Least Squares   F-statistic:                     3953.\n",
      "Date:                Fri, 14 Apr 2023   Prob (F-statistic):               0.00\n",
      "Time:                        08:13:59   Log-Likelihood:                 14.106\n",
      "No. Observations:                2049   AIC:                            -24.21\n",
      "Df Residuals:                    2047   BIC:                            -12.96\n",
      "Df Model:                           1                                         \n",
      "Covariance Type:            nonrobust                                         \n",
      "===============================================================================\n",
      "                  coef    std err          t      P>|t|      [0.025      0.975]\n",
      "-------------------------------------------------------------------------------\n",
      "const           3.6081      0.134     26.931      0.000       3.345       3.871\n",
      "total_sq_ft     1.0793      0.017     62.869      0.000       1.046       1.113\n",
      "==============================================================================\n",
      "Omnibus:                      487.718   Durbin-Watson:                   2.089\n",
      "Prob(Omnibus):                  0.000   Jarque-Bera (JB):             2227.448\n",
      "Skew:                          -1.064   Prob(JB):                         0.00\n",
      "Kurtosis:                       7.643   Cond. No.                         200.\n",
      "==============================================================================\n",
      "\n",
      "Notes:\n",
      "[1] Standard Errors assume that the covariance matrix of the errors is correctly specified.\n"
     ]
    }
   ],
   "source": [
    "X_base = train[[\"total_sq_ft\"]]\n",
    "y = train.sale_price\n",
    "\n",
    "X_train, X_test, y_train, y_test = train_test_split(X_base,y,random_state = 100,train_size = .8, test_size = .2)\n",
    "lr = LinearRegression()\n",
    "model_metrics(X_base,X_train,X_test,y_train,y_test,lr)"
   ]
  },
  {
   "cell_type": "markdown",
   "id": "f97bf177-d27f-4158-8eda-be7971582e0f",
   "metadata": {},
   "source": [
    "Baseline model has low R-squared and reasonably high RMSE. Model likely has high bias. Goal is to increase training and testing R-squared while lowering both RMSE values."
   ]
  },
  {
   "cell_type": "markdown",
   "id": "6ca4f7b4-b814-48a6-8c6f-5fefb6ea1e57",
   "metadata": {},
   "source": [
    "### Final Preprocessing"
   ]
  },
  {
   "cell_type": "code",
   "execution_count": 8,
   "id": "b3b3f211-dd06-4a8f-8ece-eeaf08140cec",
   "metadata": {},
   "outputs": [
    {
     "data": {
      "text/plain": [
       "array([[ 0.74840198, -0.97861233,  0.02470831, ..., -0.14554656,\n",
       "        -0.15612495, -0.09928891],\n",
       "       [ 0.64112994, -0.97861233,  0.02470831, ..., -0.14554656,\n",
       "        -0.15612495, -0.09928891],\n",
       "       [-0.44165319,  0.70849038,  0.02470831, ..., -0.14554656,\n",
       "        -0.15612495, -0.09928891],\n",
       "       ...,\n",
       "       [ 0.37494215,  0.70849038,  0.02470831, ..., -0.14554656,\n",
       "        -0.15612495, -0.09928891],\n",
       "       [-0.28929258,  0.70849038,  0.02470831, ..., -0.14554656,\n",
       "        -0.15612495, -0.09928891],\n",
       "       [ 0.33492596, -0.97861233,  0.02470831, ..., -0.14554656,\n",
       "        -0.15612495, -0.09928891]])"
      ]
     },
     "execution_count": 8,
     "metadata": {},
     "output_type": "execute_result"
    }
   ],
   "source": [
    "#instantiate feature matrix and response vector\n",
    "X = train.copy()\n",
    "X.drop(columns = [\"sale_price\"], inplace = True)\n",
    "y = train.sale_price\n",
    "\n",
    "X_train, X_test, y_train, y_test = train_test_split(X,y,random_state = 100,train_size = .8, test_size = .2)\n",
    "ss = StandardScaler()\n",
    "ss.fit_transform(X_train)\n",
    "ss.transform(X_test)"
   ]
  },
  {
   "cell_type": "markdown",
   "id": "dc66e1c6-85f5-4247-8a11-b331ed239b35",
   "metadata": {},
   "source": [
    "## Linear Regression"
   ]
  },
  {
   "cell_type": "code",
   "execution_count": 201,
   "id": "1a463d53-1c4c-4994-8bdc-912e0e4c09b6",
   "metadata": {},
   "outputs": [],
   "source": [
    "lr = LinearRegression()"
   ]
  },
  {
   "cell_type": "code",
   "execution_count": 202,
   "id": "3f5d5735-d9e0-4205-939f-672e5c52bbd5",
   "metadata": {
    "tags": []
   },
   "outputs": [
    {
     "name": "stdout",
     "output_type": "stream",
     "text": [
      "Training R-Squared: 0.9211270364105806\n",
      "Test R-Squared: 0.8820865173158796\n",
      "Cross-Val Score: 0.9004295195815016\n",
      "Training RMSE: 20771.691713699\n",
      "Testing RMSE: 21625.55260667853\n",
      "                            OLS Regression Results                            \n",
      "==============================================================================\n",
      "Dep. Variable:             sale_price   R-squared:                       0.917\n",
      "Model:                            OLS   Adj. R-squared:                  0.912\n",
      "Method:                 Least Squares   F-statistic:                     199.6\n",
      "Date:                Fri, 14 Apr 2023   Prob (F-statistic):               0.00\n",
      "Time:                        08:14:10   Log-Likelihood:                 1458.7\n",
      "No. Observations:                2049   AIC:                            -2701.\n",
      "Df Residuals:                    1941   BIC:                            -2094.\n",
      "Df Model:                         107                                         \n",
      "Covariance Type:            nonrobust                                         \n",
      "========================================================================================\n",
      "                           coef    std err          t      P>|t|      [0.025      0.975]\n",
      "----------------------------------------------------------------------------------------\n",
      "const                    6.8791      0.434     15.833      0.000       6.027       7.731\n",
      "lot_frontage             1.4787      2.652      0.558      0.577      -3.722       6.679\n",
      "lot_shape               -0.0273      0.019     -1.408      0.159      -0.065       0.011\n",
      "utilities                0.1258      0.168      0.749      0.454      -0.204       0.455\n",
      "land_slope              -0.0549      0.105     -0.524      0.600      -0.260       0.151\n",
      "overall_qual             0.0832      0.008     10.908      0.000       0.068       0.098\n",
      "mas_vnr_area             0.0021      0.001      1.500      0.134      -0.001       0.005\n",
      "exter_qual               0.1400      0.029      4.816      0.000       0.083       0.197\n",
      "bsmt_exposure            0.0558      0.014      3.920      0.000       0.028       0.084\n",
      "heating_qc               0.0698      0.021      3.402      0.001       0.030       0.110\n",
      "kitchen_qual             0.2516      0.034      7.411      0.000       0.185       0.318\n",
      "functional               0.2687      0.040      6.772      0.000       0.191       0.347\n",
      "fireplaces               0.1296      0.037      3.531      0.000       0.058       0.202\n",
      "garage_finish            0.0218      0.008      2.819      0.005       0.007       0.037\n",
      "garage_cars              0.0348      0.007      5.073      0.000       0.021       0.048\n",
      "garage_qual             -0.0769      0.046     -1.686      0.092      -0.166       0.013\n",
      "paved_drive              0.4707      0.092      5.139      0.000       0.291       0.650\n",
      "wood_deck_sf             0.0026      0.001      2.188      0.029       0.000       0.005\n",
      "open_porch_sf            0.0161      0.011      1.454      0.146      -0.006       0.038\n",
      "total_sq_ft              1.4564      2.613      0.557      0.577      -3.669       6.582\n",
      "total_bathroom           0.0612      0.005     11.784      0.000       0.051       0.071\n",
      "ga_oq_sf                -0.0040      0.003     -1.367      0.172      -0.010       0.002\n",
      "lf_sf                   -1.3889      2.611     -0.532      0.595      -6.510       3.733\n",
      "op_sf3                   0.0031      0.003      1.079      0.281      -0.003       0.009\n",
      "op_oq3                  -0.0149      0.012     -1.276      0.202      -0.038       0.008\n",
      "oc_sf                    0.2296      0.016     14.312      0.000       0.198       0.261\n",
      "kq_f_lf                 -0.0124      0.006     -2.169      0.030      -0.024      -0.001\n",
      "pd_oq                   -0.1955      0.043     -4.572      0.000      -0.279      -0.112\n",
      "gq_sf                 3.033e-05   5.76e-06      5.266      0.000     1.9e-05    4.16e-05\n",
      "alley_None              -0.0267      0.016     -1.620      0.105      -0.059       0.006\n",
      "alley_Pave              -0.0121      0.025     -0.479      0.632      -0.062       0.037\n",
      "lot_config_CulDSac       0.0459      0.014      3.171      0.002       0.017       0.074\n",
      "lot_config_FR2          -0.0004      0.018     -0.023      0.981      -0.036       0.035\n",
      "lot_config_FR3          -0.0624      0.043     -1.467      0.142      -0.146       0.021\n",
      "lot_config_Inside        0.0071      0.008      0.911      0.362      -0.008       0.023\n",
      "condition_1_Feedr        0.0247      0.020      1.227      0.220      -0.015       0.064\n",
      "condition_1_Norm         0.0583      0.016      3.607      0.000       0.027       0.090\n",
      "condition_1_PosA         0.1280      0.040      3.206      0.001       0.050       0.206\n",
      "condition_1_PosN         0.0921      0.029      3.163      0.002       0.035       0.149\n",
      "condition_1_RRAe        -0.0151      0.033     -0.460      0.646      -0.080       0.049\n",
      "condition_1_RRAn         0.0376      0.027      1.394      0.163      -0.015       0.090\n",
      "condition_1_RRNe        -0.0325      0.074     -0.439      0.661      -0.178       0.113\n",
      "condition_1_RRNn        -0.0458      0.054     -0.850      0.396      -0.151       0.060\n",
      "bldg_type_2fmCon         0.1106      0.091      1.219      0.223      -0.067       0.289\n",
      "bldg_type_Duplex         0.0046      0.033      0.138      0.890      -0.061       0.070\n",
      "bldg_type_Twnhs          0.0023      0.069      0.033      0.974      -0.133       0.137\n",
      "bldg_type_TwnhsE         0.0434      0.064      0.678      0.498      -0.082       0.169\n",
      "foundation_CBlock        0.0088      0.013      0.684      0.494      -0.016       0.034\n",
      "foundation_PConc         0.0539      0.014      3.909      0.000       0.027       0.081\n",
      "foundation_Slab          0.1606      0.029      5.524      0.000       0.104       0.218\n",
      "foundation_Stone        -0.0215      0.057     -0.379      0.705      -0.133       0.090\n",
      "foundation_Wood          0.1248      0.091      1.370      0.171      -0.054       0.304\n",
      "central_air_Y            0.0492      0.014      3.564      0.000       0.022       0.076\n",
      "mo_sold_2               -0.0516      0.019     -2.749      0.006      -0.088      -0.015\n",
      "mo_sold_3               -0.0234      0.017     -1.373      0.170      -0.057       0.010\n",
      "mo_sold_4               -0.0196      0.017     -1.175      0.240      -0.052       0.013\n",
      "mo_sold_5               -0.0028      0.016     -0.171      0.864      -0.035       0.029\n",
      "mo_sold_6               -0.0132      0.016     -0.838      0.402      -0.044       0.018\n",
      "mo_sold_7               -0.0015      0.016     -0.091      0.928      -0.033       0.030\n",
      "mo_sold_8               -0.0141      0.017     -0.820      0.412      -0.048       0.020\n",
      "mo_sold_9               -0.0175      0.019     -0.939      0.348      -0.054       0.019\n",
      "mo_sold_10              -0.0214      0.018     -1.178      0.239      -0.057       0.014\n",
      "mo_sold_11              -0.0307      0.019     -1.629      0.104      -0.068       0.006\n",
      "mo_sold_12               0.0027      0.020      0.135      0.893      -0.037       0.042\n",
      "ms_subclass_150         -0.1561      0.129     -1.207      0.228      -0.410       0.098\n",
      "ms_subclass_160         -0.0095      0.024     -0.391      0.696      -0.057       0.038\n",
      "ms_subclass_180          0.0593      0.048      1.233      0.218      -0.035       0.154\n",
      "ms_subclass_190         -0.0311      0.109     -0.284      0.776      -0.246       0.183\n",
      "ms_subclass_20           0.1027      0.064      1.600      0.110      -0.023       0.229\n",
      "ms_subclass_30           0.0377      0.066      0.568      0.570      -0.092       0.168\n",
      "ms_subclass_40           0.0509      0.091      0.562      0.574      -0.127       0.228\n",
      "ms_subclass_45           0.0698      0.075      0.932      0.351      -0.077       0.217\n",
      "ms_subclass_50           0.1043      0.065      1.601      0.110      -0.024       0.232\n",
      "ms_subclass_60           0.1147      0.065      1.777      0.076      -0.012       0.241\n",
      "ms_subclass_70           0.1080      0.066      1.627      0.104      -0.022       0.238\n",
      "ms_subclass_75           0.1409      0.073      1.937      0.053      -0.002       0.284\n",
      "ms_subclass_80           0.1021      0.066      1.549      0.122      -0.027       0.231\n",
      "ms_subclass_85           0.1230      0.069      1.781      0.075      -0.012       0.258\n",
      "ms_subclass_90           0.0046      0.033      0.138      0.890      -0.061       0.070\n",
      "land_contour_HLS         0.0363      0.022      1.684      0.092      -0.006       0.079\n",
      "land_contour_Low        -0.0007      0.026     -0.025      0.980      -0.051       0.050\n",
      "land_contour_Lvl        -0.0058      0.015     -0.376      0.707      -0.036       0.025\n",
      "neighborhood_Blueste    -0.0103      0.061     -0.169      0.866      -0.130       0.109\n",
      "neighborhood_BrDale     -0.0322      0.051     -0.633      0.527      -0.132       0.068\n",
      "neighborhood_BrkSide    -0.0431      0.036     -1.192      0.233      -0.114       0.028\n",
      "neighborhood_ClearCr     0.0693      0.041      1.710      0.087      -0.010       0.149\n",
      "neighborhood_CollgCr    -0.0025      0.031     -0.081      0.935      -0.064       0.059\n",
      "neighborhood_Crawfor     0.0703      0.035      2.001      0.046       0.001       0.139\n",
      "neighborhood_Edwards    -0.0663      0.033     -2.000      0.046      -0.131      -0.001\n",
      "neighborhood_Gilbert    -0.0237      0.033     -0.728      0.467      -0.088       0.040\n",
      "neighborhood_Greens      0.0386      0.079      0.489      0.625      -0.116       0.194\n",
      "neighborhood_GrnHill     0.6118      0.093      6.603      0.000       0.430       0.794\n",
      "neighborhood_IDOTRR     -0.1377      0.037     -3.758      0.000      -0.210      -0.066\n",
      "neighborhood_Landmrk     0.0297      0.129      0.230      0.818      -0.224       0.283\n",
      "neighborhood_MeadowV    -0.1349      0.045     -2.995      0.003      -0.223      -0.047\n",
      "neighborhood_Mitchel     0.0012      0.034      0.035      0.972      -0.065       0.067\n",
      "neighborhood_NAmes      -0.0381      0.032     -1.179      0.239      -0.102       0.025\n",
      "neighborhood_NPkVill     0.0030      0.046      0.065      0.948      -0.087       0.093\n",
      "neighborhood_NWAmes     -0.0433      0.034     -1.265      0.206      -0.110       0.024\n",
      "neighborhood_NoRidge     0.0660      0.036      1.857      0.063      -0.004       0.136\n",
      "neighborhood_NridgHt     0.1038      0.031      3.302      0.001       0.042       0.165\n",
      "neighborhood_OldTown    -0.1207      0.035     -3.470      0.001      -0.189      -0.052\n",
      "neighborhood_SWISU      -0.0519      0.040     -1.297      0.195      -0.130       0.027\n",
      "neighborhood_Sawyer     -0.0255      0.034     -0.754      0.451      -0.092       0.041\n",
      "neighborhood_SawyerW    -0.0198      0.033     -0.602      0.547      -0.084       0.045\n",
      "neighborhood_Somerst     0.0738      0.032      2.289      0.022       0.011       0.137\n",
      "neighborhood_StoneBr     0.1181      0.036      3.282      0.001       0.048       0.189\n",
      "neighborhood_Timber      0.0096      0.035      0.274      0.784      -0.059       0.079\n",
      "neighborhood_Veenker     0.0335      0.042      0.794      0.427      -0.049       0.116\n",
      "==============================================================================\n",
      "Omnibus:                      958.130   Durbin-Watson:                   2.019\n",
      "Prob(Omnibus):                  0.000   Jarque-Bera (JB):            24124.058\n",
      "Skew:                          -1.644   Prob(JB):                         0.00\n",
      "Kurtosis:                      19.485   Cond. No.                     1.08e+16\n",
      "==============================================================================\n",
      "\n",
      "Notes:\n",
      "[1] Standard Errors assume that the covariance matrix of the errors is correctly specified.\n",
      "[2] The smallest eigenvalue is 4.7e-22. This might indicate that there are\n",
      "strong multicollinearity problems or that the design matrix is singular.\n"
     ]
    }
   ],
   "source": [
    "model_metrics(X,X_train,X_test,y_train,y_test,lr)"
   ]
  },
  {
   "cell_type": "markdown",
   "id": "7d64fae6-a37e-450c-83b6-d7efc3c5b4fe",
   "metadata": {},
   "source": [
    "## Ridge Regression"
   ]
  },
  {
   "cell_type": "code",
   "execution_count": 56,
   "id": "895e1ab0-ac00-4ca9-8a56-342429e018ad",
   "metadata": {},
   "outputs": [
    {
     "data": {
      "text/plain": [
       "2.8480358684358014"
      ]
     },
     "execution_count": 56,
     "metadata": {},
     "output_type": "execute_result"
    }
   ],
   "source": [
    "#find best alpha hyperparameter for Ridge\n",
    "\n",
    "alphas = np.logspace(0,5,100)\n",
    "ridge_cv = RidgeCV(alphas = alphas, cv = 5)\n",
    "ridge_cv.fit(X_train,y_train)\n",
    "\n",
    "#find optimal alpha value\n",
    "ridge_cv.alpha_"
   ]
  },
  {
   "cell_type": "code",
   "execution_count": 57,
   "id": "d854cbd4-e6cc-48b2-9de9-824791b37bb0",
   "metadata": {},
   "outputs": [
    {
     "name": "stdout",
     "output_type": "stream",
     "text": [
      "Training R-Squared: 0.9183739963479586\n",
      "Test R-Squared: 0.8893169971985655\n",
      "Cross-Val Score: 0.9027895589247127\n",
      "Training RMSE: 21237.535162847227\n",
      "Testing RMSE: 20655.926223488023\n",
      "                            OLS Regression Results                            \n",
      "==============================================================================\n",
      "Dep. Variable:             sale_price   R-squared:                       0.917\n",
      "Model:                            OLS   Adj. R-squared:                  0.912\n",
      "Method:                 Least Squares   F-statistic:                     199.6\n",
      "Date:                Fri, 14 Apr 2023   Prob (F-statistic):               0.00\n",
      "Time:                        02:30:35   Log-Likelihood:                 1458.7\n",
      "No. Observations:                2049   AIC:                            -2701.\n",
      "Df Residuals:                    1941   BIC:                            -2094.\n",
      "Df Model:                         107                                         \n",
      "Covariance Type:            nonrobust                                         \n",
      "========================================================================================\n",
      "                           coef    std err          t      P>|t|      [0.025      0.975]\n",
      "----------------------------------------------------------------------------------------\n",
      "const                    6.8791      0.434     15.833      0.000       6.027       7.731\n",
      "lot_frontage             1.4787      2.652      0.558      0.577      -3.722       6.679\n",
      "lot_shape               -0.0273      0.019     -1.408      0.159      -0.065       0.011\n",
      "utilities                0.1258      0.168      0.749      0.454      -0.204       0.455\n",
      "land_slope              -0.0549      0.105     -0.524      0.600      -0.260       0.151\n",
      "overall_qual             0.0832      0.008     10.908      0.000       0.068       0.098\n",
      "mas_vnr_area             0.0021      0.001      1.500      0.134      -0.001       0.005\n",
      "exter_qual               0.1400      0.029      4.816      0.000       0.083       0.197\n",
      "bsmt_exposure            0.0558      0.014      3.920      0.000       0.028       0.084\n",
      "heating_qc               0.0698      0.021      3.402      0.001       0.030       0.110\n",
      "kitchen_qual             0.2516      0.034      7.411      0.000       0.185       0.318\n",
      "functional               0.2687      0.040      6.772      0.000       0.191       0.347\n",
      "fireplaces               0.1296      0.037      3.531      0.000       0.058       0.202\n",
      "garage_finish            0.0218      0.008      2.819      0.005       0.007       0.037\n",
      "garage_cars              0.0348      0.007      5.073      0.000       0.021       0.048\n",
      "garage_qual             -0.0769      0.046     -1.686      0.092      -0.166       0.013\n",
      "paved_drive              0.4707      0.092      5.139      0.000       0.291       0.650\n",
      "wood_deck_sf             0.0026      0.001      2.188      0.029       0.000       0.005\n",
      "open_porch_sf            0.0161      0.011      1.454      0.146      -0.006       0.038\n",
      "total_sq_ft              1.4564      2.613      0.557      0.577      -3.669       6.582\n",
      "total_bathroom           0.0612      0.005     11.784      0.000       0.051       0.071\n",
      "ga_oq_sf                -0.0040      0.003     -1.367      0.172      -0.010       0.002\n",
      "lf_sf                   -1.3889      2.611     -0.532      0.595      -6.510       3.733\n",
      "op_sf3                   0.0031      0.003      1.079      0.281      -0.003       0.009\n",
      "op_oq3                  -0.0149      0.012     -1.276      0.202      -0.038       0.008\n",
      "oc_sf                    0.2296      0.016     14.312      0.000       0.198       0.261\n",
      "kq_f_lf                 -0.0124      0.006     -2.169      0.030      -0.024      -0.001\n",
      "pd_oq                   -0.1955      0.043     -4.572      0.000      -0.279      -0.112\n",
      "gq_sf                 3.033e-05   5.76e-06      5.266      0.000     1.9e-05    4.16e-05\n",
      "alley_None              -0.0267      0.016     -1.620      0.105      -0.059       0.006\n",
      "alley_Pave              -0.0121      0.025     -0.479      0.632      -0.062       0.037\n",
      "lot_config_CulDSac       0.0459      0.014      3.171      0.002       0.017       0.074\n",
      "lot_config_FR2          -0.0004      0.018     -0.023      0.981      -0.036       0.035\n",
      "lot_config_FR3          -0.0624      0.043     -1.467      0.142      -0.146       0.021\n",
      "lot_config_Inside        0.0071      0.008      0.911      0.362      -0.008       0.023\n",
      "condition_1_Feedr        0.0247      0.020      1.227      0.220      -0.015       0.064\n",
      "condition_1_Norm         0.0583      0.016      3.607      0.000       0.027       0.090\n",
      "condition_1_PosA         0.1280      0.040      3.206      0.001       0.050       0.206\n",
      "condition_1_PosN         0.0921      0.029      3.163      0.002       0.035       0.149\n",
      "condition_1_RRAe        -0.0151      0.033     -0.460      0.646      -0.080       0.049\n",
      "condition_1_RRAn         0.0376      0.027      1.394      0.163      -0.015       0.090\n",
      "condition_1_RRNe        -0.0325      0.074     -0.439      0.661      -0.178       0.113\n",
      "condition_1_RRNn        -0.0458      0.054     -0.850      0.396      -0.151       0.060\n",
      "bldg_type_2fmCon         0.1106      0.091      1.219      0.223      -0.067       0.289\n",
      "bldg_type_Duplex         0.0046      0.033      0.138      0.890      -0.061       0.070\n",
      "bldg_type_Twnhs          0.0023      0.069      0.033      0.974      -0.133       0.137\n",
      "bldg_type_TwnhsE         0.0434      0.064      0.678      0.498      -0.082       0.169\n",
      "foundation_CBlock        0.0088      0.013      0.684      0.494      -0.016       0.034\n",
      "foundation_PConc         0.0539      0.014      3.909      0.000       0.027       0.081\n",
      "foundation_Slab          0.1606      0.029      5.524      0.000       0.104       0.218\n",
      "foundation_Stone        -0.0215      0.057     -0.379      0.705      -0.133       0.090\n",
      "foundation_Wood          0.1248      0.091      1.370      0.171      -0.054       0.304\n",
      "central_air_Y            0.0492      0.014      3.564      0.000       0.022       0.076\n",
      "mo_sold_2               -0.0516      0.019     -2.749      0.006      -0.088      -0.015\n",
      "mo_sold_3               -0.0234      0.017     -1.373      0.170      -0.057       0.010\n",
      "mo_sold_4               -0.0196      0.017     -1.175      0.240      -0.052       0.013\n",
      "mo_sold_5               -0.0028      0.016     -0.171      0.864      -0.035       0.029\n",
      "mo_sold_6               -0.0132      0.016     -0.838      0.402      -0.044       0.018\n",
      "mo_sold_7               -0.0015      0.016     -0.091      0.928      -0.033       0.030\n",
      "mo_sold_8               -0.0141      0.017     -0.820      0.412      -0.048       0.020\n",
      "mo_sold_9               -0.0175      0.019     -0.939      0.348      -0.054       0.019\n",
      "mo_sold_10              -0.0214      0.018     -1.178      0.239      -0.057       0.014\n",
      "mo_sold_11              -0.0307      0.019     -1.629      0.104      -0.068       0.006\n",
      "mo_sold_12               0.0027      0.020      0.135      0.893      -0.037       0.042\n",
      "ms_subclass_150         -0.1561      0.129     -1.207      0.228      -0.410       0.098\n",
      "ms_subclass_160         -0.0095      0.024     -0.391      0.696      -0.057       0.038\n",
      "ms_subclass_180          0.0593      0.048      1.233      0.218      -0.035       0.154\n",
      "ms_subclass_190         -0.0311      0.109     -0.284      0.776      -0.246       0.183\n",
      "ms_subclass_20           0.1027      0.064      1.600      0.110      -0.023       0.229\n",
      "ms_subclass_30           0.0377      0.066      0.568      0.570      -0.092       0.168\n",
      "ms_subclass_40           0.0509      0.091      0.562      0.574      -0.127       0.228\n",
      "ms_subclass_45           0.0698      0.075      0.932      0.351      -0.077       0.217\n",
      "ms_subclass_50           0.1043      0.065      1.601      0.110      -0.024       0.232\n",
      "ms_subclass_60           0.1147      0.065      1.777      0.076      -0.012       0.241\n",
      "ms_subclass_70           0.1080      0.066      1.627      0.104      -0.022       0.238\n",
      "ms_subclass_75           0.1409      0.073      1.937      0.053      -0.002       0.284\n",
      "ms_subclass_80           0.1021      0.066      1.549      0.122      -0.027       0.231\n",
      "ms_subclass_85           0.1230      0.069      1.781      0.075      -0.012       0.258\n",
      "ms_subclass_90           0.0046      0.033      0.138      0.890      -0.061       0.070\n",
      "land_contour_HLS         0.0363      0.022      1.684      0.092      -0.006       0.079\n",
      "land_contour_Low        -0.0007      0.026     -0.025      0.980      -0.051       0.050\n",
      "land_contour_Lvl        -0.0058      0.015     -0.376      0.707      -0.036       0.025\n",
      "neighborhood_Blueste    -0.0103      0.061     -0.169      0.866      -0.130       0.109\n",
      "neighborhood_BrDale     -0.0322      0.051     -0.633      0.527      -0.132       0.068\n",
      "neighborhood_BrkSide    -0.0431      0.036     -1.192      0.233      -0.114       0.028\n",
      "neighborhood_ClearCr     0.0693      0.041      1.710      0.087      -0.010       0.149\n",
      "neighborhood_CollgCr    -0.0025      0.031     -0.081      0.935      -0.064       0.059\n",
      "neighborhood_Crawfor     0.0703      0.035      2.001      0.046       0.001       0.139\n",
      "neighborhood_Edwards    -0.0663      0.033     -2.000      0.046      -0.131      -0.001\n",
      "neighborhood_Gilbert    -0.0237      0.033     -0.728      0.467      -0.088       0.040\n",
      "neighborhood_Greens      0.0386      0.079      0.489      0.625      -0.116       0.194\n",
      "neighborhood_GrnHill     0.6118      0.093      6.603      0.000       0.430       0.794\n",
      "neighborhood_IDOTRR     -0.1377      0.037     -3.758      0.000      -0.210      -0.066\n",
      "neighborhood_Landmrk     0.0297      0.129      0.230      0.818      -0.224       0.283\n",
      "neighborhood_MeadowV    -0.1349      0.045     -2.995      0.003      -0.223      -0.047\n",
      "neighborhood_Mitchel     0.0012      0.034      0.035      0.972      -0.065       0.067\n",
      "neighborhood_NAmes      -0.0381      0.032     -1.179      0.239      -0.102       0.025\n",
      "neighborhood_NPkVill     0.0030      0.046      0.065      0.948      -0.087       0.093\n",
      "neighborhood_NWAmes     -0.0433      0.034     -1.265      0.206      -0.110       0.024\n",
      "neighborhood_NoRidge     0.0660      0.036      1.857      0.063      -0.004       0.136\n",
      "neighborhood_NridgHt     0.1038      0.031      3.302      0.001       0.042       0.165\n",
      "neighborhood_OldTown    -0.1207      0.035     -3.470      0.001      -0.189      -0.052\n",
      "neighborhood_SWISU      -0.0519      0.040     -1.297      0.195      -0.130       0.027\n",
      "neighborhood_Sawyer     -0.0255      0.034     -0.754      0.451      -0.092       0.041\n",
      "neighborhood_SawyerW    -0.0198      0.033     -0.602      0.547      -0.084       0.045\n",
      "neighborhood_Somerst     0.0738      0.032      2.289      0.022       0.011       0.137\n",
      "neighborhood_StoneBr     0.1181      0.036      3.282      0.001       0.048       0.189\n",
      "neighborhood_Timber      0.0096      0.035      0.274      0.784      -0.059       0.079\n",
      "neighborhood_Veenker     0.0335      0.042      0.794      0.427      -0.049       0.116\n",
      "==============================================================================\n",
      "Omnibus:                      958.130   Durbin-Watson:                   2.019\n",
      "Prob(Omnibus):                  0.000   Jarque-Bera (JB):            24124.058\n",
      "Skew:                          -1.644   Prob(JB):                         0.00\n",
      "Kurtosis:                      19.485   Cond. No.                     1.08e+16\n",
      "==============================================================================\n",
      "\n",
      "Notes:\n",
      "[1] Standard Errors assume that the covariance matrix of the errors is correctly specified.\n",
      "[2] The smallest eigenvalue is 4.7e-22. This might indicate that there are\n",
      "strong multicollinearity problems or that the design matrix is singular.\n"
     ]
    }
   ],
   "source": [
    "model_metrics(X,X_train,X_test,y_train,y_test,Ridge(2.8480358684358014))"
   ]
  },
  {
   "cell_type": "markdown",
   "id": "864c701b-3a48-49b5-9276-d55b51d07767",
   "metadata": {},
   "source": [
    "## Lasso Regression"
   ]
  },
  {
   "cell_type": "code",
   "execution_count": 58,
   "id": "3c899220-6bb5-4813-b81e-bc749b61981b",
   "metadata": {},
   "outputs": [
    {
     "data": {
      "text/plain": [
       "LassoCV(alphas=array([0.001     , 0.00107227, 0.00114976, 0.00123285, 0.00132194,\n",
       "       0.00141747, 0.00151991, 0.00162975, 0.00174753, 0.00187382,\n",
       "       0.00200923, 0.00215443, 0.00231013, 0.00247708, 0.00265609,\n",
       "       0.00284804, 0.00305386, 0.00327455, 0.00351119, 0.00376494,\n",
       "       0.00403702, 0.00432876, 0.00464159, 0.00497702, 0.0053367 ,\n",
       "       0.00572237, 0.00613591, 0.00657933, 0.0070548 , 0.00756463,\n",
       "       0.008...\n",
       "       0.09326033, 0.1       , 0.10722672, 0.1149757 , 0.12328467,\n",
       "       0.13219411, 0.14174742, 0.15199111, 0.16297508, 0.17475284,\n",
       "       0.18738174, 0.2009233 , 0.21544347, 0.23101297, 0.24770764,\n",
       "       0.26560878, 0.28480359, 0.30538555, 0.32745492, 0.35111917,\n",
       "       0.37649358, 0.40370173, 0.43287613, 0.46415888, 0.49770236,\n",
       "       0.53366992, 0.57223677, 0.61359073, 0.65793322, 0.70548023,\n",
       "       0.75646333, 0.81113083, 0.869749  , 0.93260335, 1.        ]))"
      ]
     },
     "execution_count": 58,
     "metadata": {},
     "output_type": "execute_result"
    }
   ],
   "source": [
    "#find best alpha hyperparameter for Ridge\n",
    "\n",
    "l_alphas = np.logspace(-3,0,100)\n",
    "lasso_cv = LassoCV(alphas = l_alphas)\n",
    "lasso_cv.fit(X_train,y_train)"
   ]
  },
  {
   "cell_type": "code",
   "execution_count": 59,
   "id": "e6a0e46d-6926-4224-bf8f-306da0dd5f36",
   "metadata": {},
   "outputs": [
    {
     "data": {
      "text/plain": [
       "0.001"
      ]
     },
     "execution_count": 59,
     "metadata": {},
     "output_type": "execute_result"
    }
   ],
   "source": [
    "#find best alpha value\n",
    "lasso_cv.alpha_"
   ]
  },
  {
   "cell_type": "code",
   "execution_count": 60,
   "id": "092b0dff-ac64-4537-8866-622bda4de9c8",
   "metadata": {},
   "outputs": [
    {
     "name": "stdout",
     "output_type": "stream",
     "text": [
      "Training R-Squared: 0.9061099428262145\n",
      "Test R-Squared: 0.884690437389254\n",
      "Cross-Val Score: 0.896759469010286\n",
      "Training RMSE: 23096.270480365987\n",
      "Testing RMSE: 21501.520031559045\n",
      "                            OLS Regression Results                            \n",
      "==============================================================================\n",
      "Dep. Variable:             sale_price   R-squared:                       0.917\n",
      "Model:                            OLS   Adj. R-squared:                  0.912\n",
      "Method:                 Least Squares   F-statistic:                     199.6\n",
      "Date:                Fri, 14 Apr 2023   Prob (F-statistic):               0.00\n",
      "Time:                        02:32:02   Log-Likelihood:                 1458.7\n",
      "No. Observations:                2049   AIC:                            -2701.\n",
      "Df Residuals:                    1941   BIC:                            -2094.\n",
      "Df Model:                         107                                         \n",
      "Covariance Type:            nonrobust                                         \n",
      "========================================================================================\n",
      "                           coef    std err          t      P>|t|      [0.025      0.975]\n",
      "----------------------------------------------------------------------------------------\n",
      "const                    6.8791      0.434     15.833      0.000       6.027       7.731\n",
      "lot_frontage             1.4787      2.652      0.558      0.577      -3.722       6.679\n",
      "lot_shape               -0.0273      0.019     -1.408      0.159      -0.065       0.011\n",
      "utilities                0.1258      0.168      0.749      0.454      -0.204       0.455\n",
      "land_slope              -0.0549      0.105     -0.524      0.600      -0.260       0.151\n",
      "overall_qual             0.0832      0.008     10.908      0.000       0.068       0.098\n",
      "mas_vnr_area             0.0021      0.001      1.500      0.134      -0.001       0.005\n",
      "exter_qual               0.1400      0.029      4.816      0.000       0.083       0.197\n",
      "bsmt_exposure            0.0558      0.014      3.920      0.000       0.028       0.084\n",
      "heating_qc               0.0698      0.021      3.402      0.001       0.030       0.110\n",
      "kitchen_qual             0.2516      0.034      7.411      0.000       0.185       0.318\n",
      "functional               0.2687      0.040      6.772      0.000       0.191       0.347\n",
      "fireplaces               0.1296      0.037      3.531      0.000       0.058       0.202\n",
      "garage_finish            0.0218      0.008      2.819      0.005       0.007       0.037\n",
      "garage_cars              0.0348      0.007      5.073      0.000       0.021       0.048\n",
      "garage_qual             -0.0769      0.046     -1.686      0.092      -0.166       0.013\n",
      "paved_drive              0.4707      0.092      5.139      0.000       0.291       0.650\n",
      "wood_deck_sf             0.0026      0.001      2.188      0.029       0.000       0.005\n",
      "open_porch_sf            0.0161      0.011      1.454      0.146      -0.006       0.038\n",
      "total_sq_ft              1.4564      2.613      0.557      0.577      -3.669       6.582\n",
      "total_bathroom           0.0612      0.005     11.784      0.000       0.051       0.071\n",
      "ga_oq_sf                -0.0040      0.003     -1.367      0.172      -0.010       0.002\n",
      "lf_sf                   -1.3889      2.611     -0.532      0.595      -6.510       3.733\n",
      "op_sf3                   0.0031      0.003      1.079      0.281      -0.003       0.009\n",
      "op_oq3                  -0.0149      0.012     -1.276      0.202      -0.038       0.008\n",
      "oc_sf                    0.2296      0.016     14.312      0.000       0.198       0.261\n",
      "kq_f_lf                 -0.0124      0.006     -2.169      0.030      -0.024      -0.001\n",
      "pd_oq                   -0.1955      0.043     -4.572      0.000      -0.279      -0.112\n",
      "gq_sf                 3.033e-05   5.76e-06      5.266      0.000     1.9e-05    4.16e-05\n",
      "alley_None              -0.0267      0.016     -1.620      0.105      -0.059       0.006\n",
      "alley_Pave              -0.0121      0.025     -0.479      0.632      -0.062       0.037\n",
      "lot_config_CulDSac       0.0459      0.014      3.171      0.002       0.017       0.074\n",
      "lot_config_FR2          -0.0004      0.018     -0.023      0.981      -0.036       0.035\n",
      "lot_config_FR3          -0.0624      0.043     -1.467      0.142      -0.146       0.021\n",
      "lot_config_Inside        0.0071      0.008      0.911      0.362      -0.008       0.023\n",
      "condition_1_Feedr        0.0247      0.020      1.227      0.220      -0.015       0.064\n",
      "condition_1_Norm         0.0583      0.016      3.607      0.000       0.027       0.090\n",
      "condition_1_PosA         0.1280      0.040      3.206      0.001       0.050       0.206\n",
      "condition_1_PosN         0.0921      0.029      3.163      0.002       0.035       0.149\n",
      "condition_1_RRAe        -0.0151      0.033     -0.460      0.646      -0.080       0.049\n",
      "condition_1_RRAn         0.0376      0.027      1.394      0.163      -0.015       0.090\n",
      "condition_1_RRNe        -0.0325      0.074     -0.439      0.661      -0.178       0.113\n",
      "condition_1_RRNn        -0.0458      0.054     -0.850      0.396      -0.151       0.060\n",
      "bldg_type_2fmCon         0.1106      0.091      1.219      0.223      -0.067       0.289\n",
      "bldg_type_Duplex         0.0046      0.033      0.138      0.890      -0.061       0.070\n",
      "bldg_type_Twnhs          0.0023      0.069      0.033      0.974      -0.133       0.137\n",
      "bldg_type_TwnhsE         0.0434      0.064      0.678      0.498      -0.082       0.169\n",
      "foundation_CBlock        0.0088      0.013      0.684      0.494      -0.016       0.034\n",
      "foundation_PConc         0.0539      0.014      3.909      0.000       0.027       0.081\n",
      "foundation_Slab          0.1606      0.029      5.524      0.000       0.104       0.218\n",
      "foundation_Stone        -0.0215      0.057     -0.379      0.705      -0.133       0.090\n",
      "foundation_Wood          0.1248      0.091      1.370      0.171      -0.054       0.304\n",
      "central_air_Y            0.0492      0.014      3.564      0.000       0.022       0.076\n",
      "mo_sold_2               -0.0516      0.019     -2.749      0.006      -0.088      -0.015\n",
      "mo_sold_3               -0.0234      0.017     -1.373      0.170      -0.057       0.010\n",
      "mo_sold_4               -0.0196      0.017     -1.175      0.240      -0.052       0.013\n",
      "mo_sold_5               -0.0028      0.016     -0.171      0.864      -0.035       0.029\n",
      "mo_sold_6               -0.0132      0.016     -0.838      0.402      -0.044       0.018\n",
      "mo_sold_7               -0.0015      0.016     -0.091      0.928      -0.033       0.030\n",
      "mo_sold_8               -0.0141      0.017     -0.820      0.412      -0.048       0.020\n",
      "mo_sold_9               -0.0175      0.019     -0.939      0.348      -0.054       0.019\n",
      "mo_sold_10              -0.0214      0.018     -1.178      0.239      -0.057       0.014\n",
      "mo_sold_11              -0.0307      0.019     -1.629      0.104      -0.068       0.006\n",
      "mo_sold_12               0.0027      0.020      0.135      0.893      -0.037       0.042\n",
      "ms_subclass_150         -0.1561      0.129     -1.207      0.228      -0.410       0.098\n",
      "ms_subclass_160         -0.0095      0.024     -0.391      0.696      -0.057       0.038\n",
      "ms_subclass_180          0.0593      0.048      1.233      0.218      -0.035       0.154\n",
      "ms_subclass_190         -0.0311      0.109     -0.284      0.776      -0.246       0.183\n",
      "ms_subclass_20           0.1027      0.064      1.600      0.110      -0.023       0.229\n",
      "ms_subclass_30           0.0377      0.066      0.568      0.570      -0.092       0.168\n",
      "ms_subclass_40           0.0509      0.091      0.562      0.574      -0.127       0.228\n",
      "ms_subclass_45           0.0698      0.075      0.932      0.351      -0.077       0.217\n",
      "ms_subclass_50           0.1043      0.065      1.601      0.110      -0.024       0.232\n",
      "ms_subclass_60           0.1147      0.065      1.777      0.076      -0.012       0.241\n",
      "ms_subclass_70           0.1080      0.066      1.627      0.104      -0.022       0.238\n",
      "ms_subclass_75           0.1409      0.073      1.937      0.053      -0.002       0.284\n",
      "ms_subclass_80           0.1021      0.066      1.549      0.122      -0.027       0.231\n",
      "ms_subclass_85           0.1230      0.069      1.781      0.075      -0.012       0.258\n",
      "ms_subclass_90           0.0046      0.033      0.138      0.890      -0.061       0.070\n",
      "land_contour_HLS         0.0363      0.022      1.684      0.092      -0.006       0.079\n",
      "land_contour_Low        -0.0007      0.026     -0.025      0.980      -0.051       0.050\n",
      "land_contour_Lvl        -0.0058      0.015     -0.376      0.707      -0.036       0.025\n",
      "neighborhood_Blueste    -0.0103      0.061     -0.169      0.866      -0.130       0.109\n",
      "neighborhood_BrDale     -0.0322      0.051     -0.633      0.527      -0.132       0.068\n",
      "neighborhood_BrkSide    -0.0431      0.036     -1.192      0.233      -0.114       0.028\n",
      "neighborhood_ClearCr     0.0693      0.041      1.710      0.087      -0.010       0.149\n",
      "neighborhood_CollgCr    -0.0025      0.031     -0.081      0.935      -0.064       0.059\n",
      "neighborhood_Crawfor     0.0703      0.035      2.001      0.046       0.001       0.139\n",
      "neighborhood_Edwards    -0.0663      0.033     -2.000      0.046      -0.131      -0.001\n",
      "neighborhood_Gilbert    -0.0237      0.033     -0.728      0.467      -0.088       0.040\n",
      "neighborhood_Greens      0.0386      0.079      0.489      0.625      -0.116       0.194\n",
      "neighborhood_GrnHill     0.6118      0.093      6.603      0.000       0.430       0.794\n",
      "neighborhood_IDOTRR     -0.1377      0.037     -3.758      0.000      -0.210      -0.066\n",
      "neighborhood_Landmrk     0.0297      0.129      0.230      0.818      -0.224       0.283\n",
      "neighborhood_MeadowV    -0.1349      0.045     -2.995      0.003      -0.223      -0.047\n",
      "neighborhood_Mitchel     0.0012      0.034      0.035      0.972      -0.065       0.067\n",
      "neighborhood_NAmes      -0.0381      0.032     -1.179      0.239      -0.102       0.025\n",
      "neighborhood_NPkVill     0.0030      0.046      0.065      0.948      -0.087       0.093\n",
      "neighborhood_NWAmes     -0.0433      0.034     -1.265      0.206      -0.110       0.024\n",
      "neighborhood_NoRidge     0.0660      0.036      1.857      0.063      -0.004       0.136\n",
      "neighborhood_NridgHt     0.1038      0.031      3.302      0.001       0.042       0.165\n",
      "neighborhood_OldTown    -0.1207      0.035     -3.470      0.001      -0.189      -0.052\n",
      "neighborhood_SWISU      -0.0519      0.040     -1.297      0.195      -0.130       0.027\n",
      "neighborhood_Sawyer     -0.0255      0.034     -0.754      0.451      -0.092       0.041\n",
      "neighborhood_SawyerW    -0.0198      0.033     -0.602      0.547      -0.084       0.045\n",
      "neighborhood_Somerst     0.0738      0.032      2.289      0.022       0.011       0.137\n",
      "neighborhood_StoneBr     0.1181      0.036      3.282      0.001       0.048       0.189\n",
      "neighborhood_Timber      0.0096      0.035      0.274      0.784      -0.059       0.079\n",
      "neighborhood_Veenker     0.0335      0.042      0.794      0.427      -0.049       0.116\n",
      "==============================================================================\n",
      "Omnibus:                      958.130   Durbin-Watson:                   2.019\n",
      "Prob(Omnibus):                  0.000   Jarque-Bera (JB):            24124.058\n",
      "Skew:                          -1.644   Prob(JB):                         0.00\n",
      "Kurtosis:                      19.485   Cond. No.                     1.08e+16\n",
      "==============================================================================\n",
      "\n",
      "Notes:\n",
      "[1] Standard Errors assume that the covariance matrix of the errors is correctly specified.\n",
      "[2] The smallest eigenvalue is 4.7e-22. This might indicate that there are\n",
      "strong multicollinearity problems or that the design matrix is singular.\n"
     ]
    }
   ],
   "source": [
    "model_metrics(X,X_train,X_test,y_train,y_test,Lasso(.001))"
   ]
  },
  {
   "cell_type": "markdown",
   "id": "ff9a2bb1-176f-41d8-bbf4-f90749a9b3af",
   "metadata": {},
   "source": [
    "## ElasticNet Regressor"
   ]
  },
  {
   "cell_type": "code",
   "execution_count": 7,
   "id": "26d9d4b3-bc7c-48a5-9de4-064133bf6ae3",
   "metadata": {},
   "outputs": [
    {
     "name": "stdout",
     "output_type": "stream",
     "text": [
      "alpha: 0.001000\n",
      "l1_ratio_: 0.030000\n"
     ]
    }
   ],
   "source": [
    "#Source: https://machinelearningmastery.com/elastic-net-regression-in-python/\n",
    "#find best hyperparameters\n",
    "\n",
    "cv = RepeatedKFold(n_splits=10, n_repeats=3, random_state=1)\n",
    "ratios = np.arange(0, 1, 0.01)\n",
    "alphas = [1e-5, 1e-4, 1e-3, 1e-2, 1e-1, 0.0, 1.0, 10.0, 100.0]\n",
    "model = ElasticNetCV(l1_ratio=ratios, alphas=alphas, cv=cv, n_jobs=-1)\n",
    "model.fit(X_train, y_train)\n",
    "\n",
    "print(f'alpha: {model.alpha_})\n",
    "print(f'l1_ratio_: {model.l1_ratio_})"
   ]
  },
  {
   "cell_type": "code",
   "execution_count": 8,
   "id": "77ff9e34-a8b9-46de-a395-d323a0b3914e",
   "metadata": {},
   "outputs": [
    {
     "name": "stdout",
     "output_type": "stream",
     "text": [
      "Training R-Squared: 0.9190421034708549\n",
      "Test R-Squared: 0.889758304399986\n",
      "Cross-Val Score: 0.9026267381717797\n",
      "Training RMSE: 21139.031372955018\n",
      "Testing RMSE: 20532.855899566217\n",
      "                            OLS Regression Results                            \n",
      "==============================================================================\n",
      "Dep. Variable:             sale_price   R-squared:                       0.917\n",
      "Model:                            OLS   Adj. R-squared:                  0.912\n",
      "Method:                 Least Squares   F-statistic:                     199.6\n",
      "Date:                Fri, 14 Apr 2023   Prob (F-statistic):               0.00\n",
      "Time:                        03:03:00   Log-Likelihood:                 1458.7\n",
      "No. Observations:                2049   AIC:                            -2701.\n",
      "Df Residuals:                    1941   BIC:                            -2094.\n",
      "Df Model:                         107                                         \n",
      "Covariance Type:            nonrobust                                         \n",
      "========================================================================================\n",
      "                           coef    std err          t      P>|t|      [0.025      0.975]\n",
      "----------------------------------------------------------------------------------------\n",
      "const                    6.8791      0.434     15.833      0.000       6.027       7.731\n",
      "lot_frontage             1.4787      2.652      0.558      0.577      -3.722       6.679\n",
      "lot_shape               -0.0273      0.019     -1.408      0.159      -0.065       0.011\n",
      "utilities                0.1258      0.168      0.749      0.454      -0.204       0.455\n",
      "land_slope              -0.0549      0.105     -0.524      0.600      -0.260       0.151\n",
      "overall_qual             0.0832      0.008     10.908      0.000       0.068       0.098\n",
      "mas_vnr_area             0.0021      0.001      1.500      0.134      -0.001       0.005\n",
      "exter_qual               0.1400      0.029      4.816      0.000       0.083       0.197\n",
      "bsmt_exposure            0.0558      0.014      3.920      0.000       0.028       0.084\n",
      "heating_qc               0.0698      0.021      3.402      0.001       0.030       0.110\n",
      "kitchen_qual             0.2516      0.034      7.411      0.000       0.185       0.318\n",
      "functional               0.2687      0.040      6.772      0.000       0.191       0.347\n",
      "fireplaces               0.1296      0.037      3.531      0.000       0.058       0.202\n",
      "garage_finish            0.0218      0.008      2.819      0.005       0.007       0.037\n",
      "garage_cars              0.0348      0.007      5.073      0.000       0.021       0.048\n",
      "garage_qual             -0.0769      0.046     -1.686      0.092      -0.166       0.013\n",
      "paved_drive              0.4707      0.092      5.139      0.000       0.291       0.650\n",
      "wood_deck_sf             0.0026      0.001      2.188      0.029       0.000       0.005\n",
      "open_porch_sf            0.0161      0.011      1.454      0.146      -0.006       0.038\n",
      "total_sq_ft              1.4564      2.613      0.557      0.577      -3.669       6.582\n",
      "total_bathroom           0.0612      0.005     11.784      0.000       0.051       0.071\n",
      "ga_oq_sf                -0.0040      0.003     -1.367      0.172      -0.010       0.002\n",
      "lf_sf                   -1.3889      2.611     -0.532      0.595      -6.510       3.733\n",
      "op_sf3                   0.0031      0.003      1.079      0.281      -0.003       0.009\n",
      "op_oq3                  -0.0149      0.012     -1.276      0.202      -0.038       0.008\n",
      "oc_sf                    0.2296      0.016     14.312      0.000       0.198       0.261\n",
      "kq_f_lf                 -0.0124      0.006     -2.169      0.030      -0.024      -0.001\n",
      "pd_oq                   -0.1955      0.043     -4.572      0.000      -0.279      -0.112\n",
      "gq_sf                 3.033e-05   5.76e-06      5.266      0.000     1.9e-05    4.16e-05\n",
      "alley_None              -0.0267      0.016     -1.620      0.105      -0.059       0.006\n",
      "alley_Pave              -0.0121      0.025     -0.479      0.632      -0.062       0.037\n",
      "lot_config_CulDSac       0.0459      0.014      3.171      0.002       0.017       0.074\n",
      "lot_config_FR2          -0.0004      0.018     -0.023      0.981      -0.036       0.035\n",
      "lot_config_FR3          -0.0624      0.043     -1.467      0.142      -0.146       0.021\n",
      "lot_config_Inside        0.0071      0.008      0.911      0.362      -0.008       0.023\n",
      "condition_1_Feedr        0.0247      0.020      1.227      0.220      -0.015       0.064\n",
      "condition_1_Norm         0.0583      0.016      3.607      0.000       0.027       0.090\n",
      "condition_1_PosA         0.1280      0.040      3.206      0.001       0.050       0.206\n",
      "condition_1_PosN         0.0921      0.029      3.163      0.002       0.035       0.149\n",
      "condition_1_RRAe        -0.0151      0.033     -0.460      0.646      -0.080       0.049\n",
      "condition_1_RRAn         0.0376      0.027      1.394      0.163      -0.015       0.090\n",
      "condition_1_RRNe        -0.0325      0.074     -0.439      0.661      -0.178       0.113\n",
      "condition_1_RRNn        -0.0458      0.054     -0.850      0.396      -0.151       0.060\n",
      "bldg_type_2fmCon         0.1106      0.091      1.219      0.223      -0.067       0.289\n",
      "bldg_type_Duplex         0.0046      0.033      0.138      0.890      -0.061       0.070\n",
      "bldg_type_Twnhs          0.0023      0.069      0.033      0.974      -0.133       0.137\n",
      "bldg_type_TwnhsE         0.0434      0.064      0.678      0.498      -0.082       0.169\n",
      "foundation_CBlock        0.0088      0.013      0.684      0.494      -0.016       0.034\n",
      "foundation_PConc         0.0539      0.014      3.909      0.000       0.027       0.081\n",
      "foundation_Slab          0.1606      0.029      5.524      0.000       0.104       0.218\n",
      "foundation_Stone        -0.0215      0.057     -0.379      0.705      -0.133       0.090\n",
      "foundation_Wood          0.1248      0.091      1.370      0.171      -0.054       0.304\n",
      "central_air_Y            0.0492      0.014      3.564      0.000       0.022       0.076\n",
      "mo_sold_2               -0.0516      0.019     -2.749      0.006      -0.088      -0.015\n",
      "mo_sold_3               -0.0234      0.017     -1.373      0.170      -0.057       0.010\n",
      "mo_sold_4               -0.0196      0.017     -1.175      0.240      -0.052       0.013\n",
      "mo_sold_5               -0.0028      0.016     -0.171      0.864      -0.035       0.029\n",
      "mo_sold_6               -0.0132      0.016     -0.838      0.402      -0.044       0.018\n",
      "mo_sold_7               -0.0015      0.016     -0.091      0.928      -0.033       0.030\n",
      "mo_sold_8               -0.0141      0.017     -0.820      0.412      -0.048       0.020\n",
      "mo_sold_9               -0.0175      0.019     -0.939      0.348      -0.054       0.019\n",
      "mo_sold_10              -0.0214      0.018     -1.178      0.239      -0.057       0.014\n",
      "mo_sold_11              -0.0307      0.019     -1.629      0.104      -0.068       0.006\n",
      "mo_sold_12               0.0027      0.020      0.135      0.893      -0.037       0.042\n",
      "ms_subclass_150         -0.1561      0.129     -1.207      0.228      -0.410       0.098\n",
      "ms_subclass_160         -0.0095      0.024     -0.391      0.696      -0.057       0.038\n",
      "ms_subclass_180          0.0593      0.048      1.233      0.218      -0.035       0.154\n",
      "ms_subclass_190         -0.0311      0.109     -0.284      0.776      -0.246       0.183\n",
      "ms_subclass_20           0.1027      0.064      1.600      0.110      -0.023       0.229\n",
      "ms_subclass_30           0.0377      0.066      0.568      0.570      -0.092       0.168\n",
      "ms_subclass_40           0.0509      0.091      0.562      0.574      -0.127       0.228\n",
      "ms_subclass_45           0.0698      0.075      0.932      0.351      -0.077       0.217\n",
      "ms_subclass_50           0.1043      0.065      1.601      0.110      -0.024       0.232\n",
      "ms_subclass_60           0.1147      0.065      1.777      0.076      -0.012       0.241\n",
      "ms_subclass_70           0.1080      0.066      1.627      0.104      -0.022       0.238\n",
      "ms_subclass_75           0.1409      0.073      1.937      0.053      -0.002       0.284\n",
      "ms_subclass_80           0.1021      0.066      1.549      0.122      -0.027       0.231\n",
      "ms_subclass_85           0.1230      0.069      1.781      0.075      -0.012       0.258\n",
      "ms_subclass_90           0.0046      0.033      0.138      0.890      -0.061       0.070\n",
      "land_contour_HLS         0.0363      0.022      1.684      0.092      -0.006       0.079\n",
      "land_contour_Low        -0.0007      0.026     -0.025      0.980      -0.051       0.050\n",
      "land_contour_Lvl        -0.0058      0.015     -0.376      0.707      -0.036       0.025\n",
      "neighborhood_Blueste    -0.0103      0.061     -0.169      0.866      -0.130       0.109\n",
      "neighborhood_BrDale     -0.0322      0.051     -0.633      0.527      -0.132       0.068\n",
      "neighborhood_BrkSide    -0.0431      0.036     -1.192      0.233      -0.114       0.028\n",
      "neighborhood_ClearCr     0.0693      0.041      1.710      0.087      -0.010       0.149\n",
      "neighborhood_CollgCr    -0.0025      0.031     -0.081      0.935      -0.064       0.059\n",
      "neighborhood_Crawfor     0.0703      0.035      2.001      0.046       0.001       0.139\n",
      "neighborhood_Edwards    -0.0663      0.033     -2.000      0.046      -0.131      -0.001\n",
      "neighborhood_Gilbert    -0.0237      0.033     -0.728      0.467      -0.088       0.040\n",
      "neighborhood_Greens      0.0386      0.079      0.489      0.625      -0.116       0.194\n",
      "neighborhood_GrnHill     0.6118      0.093      6.603      0.000       0.430       0.794\n",
      "neighborhood_IDOTRR     -0.1377      0.037     -3.758      0.000      -0.210      -0.066\n",
      "neighborhood_Landmrk     0.0297      0.129      0.230      0.818      -0.224       0.283\n",
      "neighborhood_MeadowV    -0.1349      0.045     -2.995      0.003      -0.223      -0.047\n",
      "neighborhood_Mitchel     0.0012      0.034      0.035      0.972      -0.065       0.067\n",
      "neighborhood_NAmes      -0.0381      0.032     -1.179      0.239      -0.102       0.025\n",
      "neighborhood_NPkVill     0.0030      0.046      0.065      0.948      -0.087       0.093\n",
      "neighborhood_NWAmes     -0.0433      0.034     -1.265      0.206      -0.110       0.024\n",
      "neighborhood_NoRidge     0.0660      0.036      1.857      0.063      -0.004       0.136\n",
      "neighborhood_NridgHt     0.1038      0.031      3.302      0.001       0.042       0.165\n",
      "neighborhood_OldTown    -0.1207      0.035     -3.470      0.001      -0.189      -0.052\n",
      "neighborhood_SWISU      -0.0519      0.040     -1.297      0.195      -0.130       0.027\n",
      "neighborhood_Sawyer     -0.0255      0.034     -0.754      0.451      -0.092       0.041\n",
      "neighborhood_SawyerW    -0.0198      0.033     -0.602      0.547      -0.084       0.045\n",
      "neighborhood_Somerst     0.0738      0.032      2.289      0.022       0.011       0.137\n",
      "neighborhood_StoneBr     0.1181      0.036      3.282      0.001       0.048       0.189\n",
      "neighborhood_Timber      0.0096      0.035      0.274      0.784      -0.059       0.079\n",
      "neighborhood_Veenker     0.0335      0.042      0.794      0.427      -0.049       0.116\n",
      "==============================================================================\n",
      "Omnibus:                      958.130   Durbin-Watson:                   2.019\n",
      "Prob(Omnibus):                  0.000   Jarque-Bera (JB):            24124.058\n",
      "Skew:                          -1.644   Prob(JB):                         0.00\n",
      "Kurtosis:                      19.485   Cond. No.                     1.08e+16\n",
      "==============================================================================\n",
      "\n",
      "Notes:\n",
      "[1] Standard Errors assume that the covariance matrix of the errors is correctly specified.\n",
      "[2] The smallest eigenvalue is 4.7e-22. This might indicate that there are\n",
      "strong multicollinearity problems or that the design matrix is singular.\n"
     ]
    }
   ],
   "source": [
    "model_metrics(X,X_train,X_test,y_train,y_test,ElasticNet(alpha = 0.001, l1_ratio = 0.03))"
   ]
  },
  {
   "cell_type": "markdown",
   "id": "5e96b249-1167-4f38-a745-1c7c789dc79f",
   "metadata": {},
   "source": [
    "### Comparison"
   ]
  },
  {
   "cell_type": "markdown",
   "id": "bc4b9ec2-64fc-4a34-8f44-4fb882c89c45",
   "metadata": {},
   "source": [
    "Model|Train R-Squared|Test R-Squared|Cross-val Score|Train RMSE|Test RMSE|\n",
    "|---|---|---|---|---|---|\n",
    "|**Linear Regression**|.92|.88|.90|20_771|21_626|\n",
    "|**Ridge**|.92|.89|.90|21_238|20_656|\n",
    "|**Lasso**|.91|.88|.90|20_096|21_501|\n",
    "|**ElasticNet**|.92|.89|.90|21_139|20_532|"
   ]
  },
  {
   "cell_type": "markdown",
   "id": "e6bb1fd4-b73e-49d4-a61f-a08a1f05904d",
   "metadata": {},
   "source": [
    "Models performed very similarly across the metrics. All models seem to not have too much variance or bias. Based on these experiments, I would most likely continue production with the Ridge or ElasticNet model due to slightly superior performance on the test data. "
   ]
  },
  {
   "cell_type": "markdown",
   "id": "339adfc5-e070-4055-a48a-328d49c6ba74",
   "metadata": {},
   "source": [
    "## Inferential Model"
   ]
  },
  {
   "cell_type": "code",
   "execution_count": 9,
   "id": "6d672f2e-f1b0-4ec7-be67-ec353ecc6717",
   "metadata": {},
   "outputs": [
    {
     "data": {
      "text/plain": [
       "array([[-0.07622275,  0.02888463,  0.19085417,  0.29645439,  0.28680785,\n",
       "        -0.99999522],\n",
       "       [ 0.6272926 ,  0.02888463,  0.19085417,  0.29645439, -1.28362295,\n",
       "        -0.99999522],\n",
       "       [-0.77973809,  0.02888463,  0.19085417,  0.29645439,  0.07547816,\n",
       "         0.69871079],\n",
       "       ...,\n",
       "       [-0.07622275,  0.02888463,  0.19085417, -1.258059  , -0.44912152,\n",
       "         0.69871079],\n",
       "       [-1.48325343,  0.02888463,  0.19085417,  0.29645439,  0.55983847,\n",
       "         0.69871079],\n",
       "       [ 0.6272926 ,  0.02888463,  0.19085417,  0.29645439, -0.29678087,\n",
       "         0.69871079]])"
      ]
     },
     "execution_count": 9,
     "metadata": {},
     "output_type": "execute_result"
    }
   ],
   "source": [
    "#create simple inferential model\n",
    "features = [\"overall_qual\", \"utilities\", \"functional\", \"garage_qual\", \"lot_frontage\", \"lot_shape\",]\n",
    "\n",
    "X_inferential = X[features]\n",
    "ss = StandardScaler()\n",
    "ss.fit_transform(X_inferential)"
   ]
  },
  {
   "cell_type": "code",
   "execution_count": 10,
   "id": "fc29f17b-c9c2-4654-8842-41f40726e71d",
   "metadata": {},
   "outputs": [
    {
     "data": {
      "text/plain": [
       "LinearRegression()"
      ]
     },
     "execution_count": 10,
     "metadata": {},
     "output_type": "execute_result"
    }
   ],
   "source": [
    "lr = LinearRegression()\n",
    "lr.fit(X_inferential,y)\n"
   ]
  },
  {
   "cell_type": "code",
   "execution_count": 11,
   "id": "ca7f8062-1de2-4a57-968d-840c5565d7a0",
   "metadata": {},
   "outputs": [],
   "source": [
    "preds = lr.predict(X_inferential)\n",
    "resid = y - preds"
   ]
  },
  {
   "cell_type": "code",
   "execution_count": 12,
   "id": "a6540c0c-d590-485f-94b7-73fd7fc6eb19",
   "metadata": {},
   "outputs": [
    {
     "data": {
      "image/png": "[encoded data removed]",
      "text/plain": [
       "<Figure size 640x480 with 1 Axes>"
      ]
     },
     "metadata": {},
     "output_type": "display_data"
    }
   ],
   "source": [
    "sns.residplot(x = preds,\n",
    "              y = resid,\n",
    "              lowess = True, #help visualize relationship\n",
    "              line_kws = {'color': 'red'})\\\n",
    "    .set(title = 'Residuals Vs. Fits Plot',\n",
    "        xlabel = 'Predicted Value',\n",
    "        ylabel = 'Residual');"
   ]
  },
  {
   "cell_type": "markdown",
   "id": "5bdd6347-73aa-4fe1-9dcb-fddcaf3303d5",
   "metadata": {},
   "source": [
    "Linearity is not met because residuals do not remain close to zero across entire plot.\n",
    "Equality of Variance is not met because the distribution of the residuals is not equally spread around the line $y = 0$."
   ]
  },
  {
   "cell_type": "code",
   "execution_count": 13,
   "id": "e5e4ed76-bbef-4a33-8f3d-2cc8266aeab9",
   "metadata": {},
   "outputs": [
    {
     "data": {
      "text/plain": [
       "<seaborn.axisgrid.FacetGrid at 0x7fc7972b7220>"
      ]
     },
     "execution_count": 13,
     "metadata": {},
     "output_type": "execute_result"
    },
    {
     "data": {
      "image/png": "[encoded data removed]",
      "text/plain": [
       "<Figure size 500x500 with 1 Axes>"
      ]
     },
     "metadata": {},
     "output_type": "display_data"
    }
   ],
   "source": [
    "#create residuals histogram\n",
    "sns.displot(resid, )\\\n",
    "    .set(title='Distribution of Resids',\n",
    "         xlabel='Residual')"
   ]
  },
  {
   "cell_type": "code",
   "execution_count": 14,
   "id": "9518b05e-7a26-4a2c-b9d1-408e1a632c5e",
   "metadata": {},
   "outputs": [
    {
     "data": {
      "image/png": "[encoded data removed]",
      "text/plain": [
       "<Figure size 640x480 with 1 Axes>"
      ]
     },
     "metadata": {},
     "output_type": "display_data"
    }
   ],
   "source": [
    "#create q-q plot\n",
    "sm.qqplot(resid,\n",
    "          dist=stats.norm,\n",
    "          line='q');"
   ]
  },
  {
   "cell_type": "markdown",
   "id": "7d501cdc-e4d2-4fa4-b89e-5d447ec68dad",
   "metadata": {},
   "source": [
    "Distribution of residuals is skewed and not normal."
   ]
  },
  {
   "cell_type": "code",
   "execution_count": 211,
   "id": "fb3dd1e8-0490-44d3-b2d3-814dc33b5795",
   "metadata": {},
   "outputs": [
    {
     "data": {
      "text/plain": [
       "2.041671852236701"
      ]
     },
     "execution_count": 211,
     "metadata": {},
     "output_type": "execute_result"
    }
   ],
   "source": [
    "from statsmodels.stats.stattools import durbin_watson\n",
    "#Durbin Watson Test\n",
    "durbin_watson(resid)"
   ]
  },
  {
   "cell_type": "markdown",
   "id": "dcbeac25-8ae3-4bc6-bbb7-f135bad85e91",
   "metadata": {},
   "source": [
    "Based on Durbin Watson Test, Independence of Errors most likely is met."
   ]
  },
  {
   "cell_type": "code",
   "execution_count": 15,
   "id": "66eacb5f-5ba1-4079-8a20-ee48e502c8b8",
   "metadata": {},
   "outputs": [
    {
     "data": {
      "image/png": "[encoded data removed]",
      "text/plain": [
       "<Figure size 1000x1000 with 2 Axes>"
      ]
     },
     "metadata": {},
     "output_type": "display_data"
    }
   ],
   "source": [
    "#plot correlation heatmap\n",
    "plt.figure(figsize = (10,10))\n",
    "sns.heatmap(X_inferential.corr(),\n",
    "            annot = True,\n",
    "           cmap = 'coolwarm')\n",
    "plt.savefig(\"../images/inferential_heat_map.png\");"
   ]
  },
  {
   "cell_type": "markdown",
   "id": "330e1492-d259-4be9-8cec-abc0fcc30aed",
   "metadata": {},
   "source": [
    "There doesn't seem to be noticeable multicorrelation."
   ]
  },
  {
   "cell_type": "code",
   "execution_count": 220,
   "id": "c6cd4f4f-eff1-449d-8223-db33aa7268e6",
   "metadata": {},
   "outputs": [
    {
     "data": {
      "text/html": [
       "<table class=\"simpletable\">\n",
       "<caption>OLS Regression Results</caption>\n",
       "<tr>\n",
       "  <th>Dep. Variable:</th>       <td>sale_price</td>    <th>  R-squared:         </th> <td>   0.753</td>\n",
       "</tr>\n",
       "<tr>\n",
       "  <th>Model:</th>                   <td>OLS</td>       <th>  Adj. R-squared:    </th> <td>   0.753</td>\n",
       "</tr>\n",
       "<tr>\n",
       "  <th>Method:</th>             <td>Least Squares</td>  <th>  F-statistic:       </th> <td>   1039.</td>\n",
       "</tr>\n",
       "<tr>\n",
       "  <th>Date:</th>             <td>Fri, 14 Apr 2023</td> <th>  Prob (F-statistic):</th>  <td>  0.00</td> \n",
       "</tr>\n",
       "<tr>\n",
       "  <th>Time:</th>                 <td>08:54:07</td>     <th>  Log-Likelihood:    </th> <td>  346.05</td>\n",
       "</tr>\n",
       "<tr>\n",
       "  <th>No. Observations:</th>      <td>  2049</td>      <th>  AIC:               </th> <td>  -678.1</td>\n",
       "</tr>\n",
       "<tr>\n",
       "  <th>Df Residuals:</th>          <td>  2042</td>      <th>  BIC:               </th> <td>  -638.7</td>\n",
       "</tr>\n",
       "<tr>\n",
       "  <th>Df Model:</th>              <td>     6</td>      <th>                     </th>     <td> </td>   \n",
       "</tr>\n",
       "<tr>\n",
       "  <th>Covariance Type:</th>      <td>nonrobust</td>    <th>                     </th>     <td> </td>   \n",
       "</tr>\n",
       "</table>\n",
       "<table class=\"simpletable\">\n",
       "<tr>\n",
       "        <td></td>          <th>coef</th>     <th>std err</th>      <th>t</th>      <th>P>|t|</th>  <th>[0.025</th>    <th>0.975]</th>  \n",
       "</tr>\n",
       "<tr>\n",
       "  <th>const</th>        <td>    8.6706</td> <td>    0.399</td> <td>   21.753</td> <td> 0.000</td> <td>    7.889</td> <td>    9.452</td>\n",
       "</tr>\n",
       "<tr>\n",
       "  <th>overall_qual</th> <td>    0.2124</td> <td>    0.003</td> <td>   61.429</td> <td> 0.000</td> <td>    0.206</td> <td>    0.219</td>\n",
       "</tr>\n",
       "<tr>\n",
       "  <th>utilities</th>    <td>    0.4932</td> <td>    0.273</td> <td>    1.805</td> <td> 0.071</td> <td>   -0.043</td> <td>    1.029</td>\n",
       "</tr>\n",
       "<tr>\n",
       "  <th>functional</th>   <td>    0.2569</td> <td>    0.061</td> <td>    4.187</td> <td> 0.000</td> <td>    0.137</td> <td>    0.377</td>\n",
       "</tr>\n",
       "<tr>\n",
       "  <th>garage_qual</th>  <td>    0.1585</td> <td>    0.018</td> <td>    8.668</td> <td> 0.000</td> <td>    0.123</td> <td>    0.194</td>\n",
       "</tr>\n",
       "<tr>\n",
       "  <th>lot_frontage</th> <td>    0.2617</td> <td>    0.014</td> <td>   18.821</td> <td> 0.000</td> <td>    0.234</td> <td>    0.289</td>\n",
       "</tr>\n",
       "<tr>\n",
       "  <th>lot_shape</th>    <td>   -0.2371</td> <td>    0.028</td> <td>   -8.556</td> <td> 0.000</td> <td>   -0.291</td> <td>   -0.183</td>\n",
       "</tr>\n",
       "</table>\n",
       "<table class=\"simpletable\">\n",
       "<tr>\n",
       "  <th>Omnibus:</th>       <td>261.683</td> <th>  Durbin-Watson:     </th> <td>   2.042</td> \n",
       "</tr>\n",
       "<tr>\n",
       "  <th>Prob(Omnibus):</th> <td> 0.000</td>  <th>  Jarque-Bera (JB):  </th> <td>1228.825</td> \n",
       "</tr>\n",
       "<tr>\n",
       "  <th>Skew:</th>          <td>-0.520</td>  <th>  Prob(JB):          </th> <td>1.46e-267</td>\n",
       "</tr>\n",
       "<tr>\n",
       "  <th>Kurtosis:</th>      <td> 6.648</td>  <th>  Cond. No.          </th> <td>    849.</td> \n",
       "</tr>\n",
       "</table><br/><br/>Notes:<br/>[1] Standard Errors assume that the covariance matrix of the errors is correctly specified."
      ],
      "text/plain": [
       "<class 'statsmodels.iolib.summary.Summary'>\n",
       "\"\"\"\n",
       "                            OLS Regression Results                            \n",
       "==============================================================================\n",
       "Dep. Variable:             sale_price   R-squared:                       0.753\n",
       "Model:                            OLS   Adj. R-squared:                  0.753\n",
       "Method:                 Least Squares   F-statistic:                     1039.\n",
       "Date:                Fri, 14 Apr 2023   Prob (F-statistic):               0.00\n",
       "Time:                        08:54:07   Log-Likelihood:                 346.05\n",
       "No. Observations:                2049   AIC:                            -678.1\n",
       "Df Residuals:                    2042   BIC:                            -638.7\n",
       "Df Model:                           6                                         \n",
       "Covariance Type:            nonrobust                                         \n",
       "================================================================================\n",
       "                   coef    std err          t      P>|t|      [0.025      0.975]\n",
       "--------------------------------------------------------------------------------\n",
       "const            8.6706      0.399     21.753      0.000       7.889       9.452\n",
       "overall_qual     0.2124      0.003     61.429      0.000       0.206       0.219\n",
       "utilities        0.4932      0.273      1.805      0.071      -0.043       1.029\n",
       "functional       0.2569      0.061      4.187      0.000       0.137       0.377\n",
       "garage_qual      0.1585      0.018      8.668      0.000       0.123       0.194\n",
       "lot_frontage     0.2617      0.014     18.821      0.000       0.234       0.289\n",
       "lot_shape       -0.2371      0.028     -8.556      0.000      -0.291      -0.183\n",
       "==============================================================================\n",
       "Omnibus:                      261.683   Durbin-Watson:                   2.042\n",
       "Prob(Omnibus):                  0.000   Jarque-Bera (JB):             1228.825\n",
       "Skew:                          -0.520   Prob(JB):                    1.46e-267\n",
       "Kurtosis:                       6.648   Cond. No.                         849.\n",
       "==============================================================================\n",
       "\n",
       "Notes:\n",
       "[1] Standard Errors assume that the covariance matrix of the errors is correctly specified.\n",
       "\"\"\""
      ]
     },
     "execution_count": 220,
     "metadata": {},
     "output_type": "execute_result"
    }
   ],
   "source": [
    "X = sm.add_constant(X_inferential)\n",
    "model = sm.OLS(y,X)\n",
    "results = model.fit()\n",
    "results.summary()"
   ]
  },
  {
   "cell_type": "code",
   "execution_count": 222,
   "id": "4177df12-c556-4780-b0e0-b14b1e2a6d09",
   "metadata": {},
   "outputs": [
    {
     "name": "stdout",
     "output_type": "stream",
     "text": [
      "Training R-Squared: 0.7627825786931957\n",
      "Test R-Squared: 0.7050178057878584\n",
      "Cross-Val Score: 0.7578457410762186\n",
      "Training RMSE: 39498.266965728486\n",
      "Testing RMSE: 38006.1754922649\n",
      "                            OLS Regression Results                            \n",
      "==============================================================================\n",
      "Dep. Variable:             sale_price   R-squared:                       0.753\n",
      "Model:                            OLS   Adj. R-squared:                  0.753\n",
      "Method:                 Least Squares   F-statistic:                     1039.\n",
      "Date:                Fri, 14 Apr 2023   Prob (F-statistic):               0.00\n",
      "Time:                        08:54:23   Log-Likelihood:                 346.05\n",
      "No. Observations:                2049   AIC:                            -678.1\n",
      "Df Residuals:                    2042   BIC:                            -638.7\n",
      "Df Model:                           6                                         \n",
      "Covariance Type:            nonrobust                                         \n",
      "================================================================================\n",
      "                   coef    std err          t      P>|t|      [0.025      0.975]\n",
      "--------------------------------------------------------------------------------\n",
      "const            8.6706      0.399     21.753      0.000       7.889       9.452\n",
      "overall_qual     0.2124      0.003     61.429      0.000       0.206       0.219\n",
      "utilities        0.4932      0.273      1.805      0.071      -0.043       1.029\n",
      "functional       0.2569      0.061      4.187      0.000       0.137       0.377\n",
      "garage_qual      0.1585      0.018      8.668      0.000       0.123       0.194\n",
      "lot_frontage     0.2617      0.014     18.821      0.000       0.234       0.289\n",
      "lot_shape       -0.2371      0.028     -8.556      0.000      -0.291      -0.183\n",
      "==============================================================================\n",
      "Omnibus:                      261.683   Durbin-Watson:                   2.042\n",
      "Prob(Omnibus):                  0.000   Jarque-Bera (JB):             1228.825\n",
      "Skew:                          -0.520   Prob(JB):                    1.46e-267\n",
      "Kurtosis:                       6.648   Cond. No.                         849.\n",
      "==============================================================================\n",
      "\n",
      "Notes:\n",
      "[1] Standard Errors assume that the covariance matrix of the errors is correctly specified.\n"
     ]
    }
   ],
   "source": [
    "X_train, X_test, y_train, y_test = train_test_split(X_inferential,y,random_state = 100,train_size = .8, test_size = .2)\n",
    "model_metrics(X_inferential,X_train,X_test,y_train,y_test,LinearRegression())"
   ]
  },
  {
   "cell_type": "markdown",
   "id": "bc861711-e3fb-4ab3-8e65-2e754a5a0e57",
   "metadata": {},
   "source": [
    "Model meets 2 of the 5 MLR assumptions. Due to this, we can't have extreme confidence that the coefficients of each of these variables is valid. Model can be furter improved with addition of more features while analyzing pre-existing ones that may be contributing to the violations of the MLR assumptions."
   ]
  },
  {
   "cell_type": "markdown",
   "id": "e21d56b9-5051-4cc5-9ea8-800aa2585969",
   "metadata": {},
   "source": [
    "## Conclusion"
   ]
  },
  {
   "cell_type": "markdown",
   "id": "f6c437d2-b2aa-4980-afc5-6983c61faa51",
   "metadata": {},
   "source": [
    "Overall, the predictive models didn't meet all of the standards outlined in the problem statement. Nevertheless, the consistent RMSE scores and R-squared values indicate that an effective regression model can be constructed with the given data. Based on these experiments, I would most likely continue production with the Ridge or ElasticNet model due to slightly superior performance on the test data. Changing the manner in which data was cleaned, adjusting encoding of categorical variables, and rethinking numerical feature engineering are just a few examples of how to improve the metrics. Unfortunately, the complexity of this model and its violation of MLR assumptions leave any interpretation of the impact of individual variables on sale price as a lost cause. Perhaps it is possible to restructure these models in order to create one that has decent predictive and inferential capabilities for not just this city but many others. Also, future exploration of these data sets with more advnaced machine learning models may prove to yield even greater performance."
   ]
  },
  {
   "cell_type": "code",
   "execution_count": null,
   "id": "92224fa2-5652-4f7d-98a4-041567d46be6",
   "metadata": {},
   "outputs": [],
   "source": []
  }
 ],
 "metadata": {
  "kernelspec": {
   "display_name": "Python 3 (ipykernel)",
   "language": "python",
   "name": "python3"
  },
  "language_info": {
   "codemirror_mode": {
    "name": "ipython",
    "version": 3
   },
   "file_extension": ".py",
   "mimetype": "text/x-python",
   "name": "python",
   "nbconvert_exporter": "python",
   "pygments_lexer": "ipython3",
   "version": "3.9.13"
  }
 },
 "nbformat": 4,
 "nbformat_minor": 5
}
